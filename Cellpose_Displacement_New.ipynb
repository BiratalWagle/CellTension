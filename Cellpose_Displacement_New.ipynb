{
 "cells": [
  {
   "cell_type": "markdown",
   "metadata": {},
   "source": [
    "# New Try\n",
    "The other methods of displacement finding weren't so nice. So this time let's try by first finding the ROI we need as well as all the ROIs that surround it\n",
    "\n",
    "\n",
    "# The Problem with this approach. \n",
    "Now, we are able to find the vertexes of th required cell segmentation very easily. This is because the ROI of every cell <i> includes </i> the cell walls. However, this is not exactly correct I feel. This also leads to alot more errors occuring.\n",
    "\n",
    "OK. Lets think about this another way. Hmmm.... maybe, just maybe, if I just use different algorithms to alter the image before the machine learning process, then maybe this could work. \n",
    "\n"
   ]
  },
  {
   "cell_type": "code",
   "execution_count": 84,
   "metadata": {},
   "outputs": [],
   "source": [
    "# Imports\n",
    "\n",
    "import numpy as np\n",
    "import matplotlib.pyplot as plt\n",
    "from cellpose import models, io\n",
    "from cellpose.io import imread\n",
    "from pathlib import Path\n",
    "import os\n",
    "from Modules import specificOutline, getFileDir, getOutlines, smoother, splitImg, plotSide # Custom module for readability\n",
    "import Modules_Displacement # custom module for readability\n",
    "import Modules\n",
    "from PIL import Image\n",
    "\n",
    "# List of Files\n",
    "# Importing all the files\n",
    "\n",
    "# the folder containing the .npy and png (or .tif files) are stored \n",
    "npyDir = \"Haltere\"\n",
    "\n",
    "# Makes the directy to point to the seg files\n",
    "basedir = os.path.join(Path.cwd(), npyDir)\n",
    "files = io.get_image_files(basedir, \"\")\n",
    "dir = []\n",
    "for f in files: \n",
    "    dir.append((os.path.join(basedir, f) + \"_seg.npy\").replace(\".tif\", \"\"))\n",
    "dir = dir"
   ]
  },
  {
   "cell_type": "code",
   "execution_count": 85,
   "metadata": {},
   "outputs": [
    {
     "data": {
      "text/plain": [
       "99"
      ]
     },
     "execution_count": 85,
     "metadata": {},
     "output_type": "execute_result"
    }
   ],
   "source": [
    "stepsize = (0.823 - 0.549)/2\n",
    "\n",
    "tempX = np.arange(0.549, stepsize * 100, stepsize).tolist()\n",
    "\n",
    "bigX = [ 0.549/3 * i for i in range(3)]\n",
    "bigX = bigX + tempX\n",
    "len(bigX)"
   ]
  },
  {
   "cell_type": "code",
   "execution_count": 87,
   "metadata": {},
   "outputs": [],
   "source": [
    "roi_name = [] # a list containing the name of the roi we need\n",
    "\n",
    "for i in range(len(dir)):  \n",
    "    dat = np.load(dir[i], allow_pickle=True).item()\n",
    "    masks = dat['masks'] # Using the masks gives us a larger target to select from than outlines\n",
    "    filenam = dat['filename']\n",
    "    width, height = masks.shape\n",
    "    neededROI = masks[width//2][height//2] # the general area of where our ROI will always be\n",
    "    # the below code saves the outline in an image file\n",
    "    if neededROI != 0: \n",
    "        roi_name.append([i, neededROI])"
   ]
  },
  {
   "cell_type": "markdown",
   "metadata": {},
   "source": [
    "# Method\n",
    "The thought process for this method is that the cell we want will be boreder by other cells. However, the vertexes of those cells will be bordered by 3 cells. The cell we want, and two other cells. \n",
    "\n",
    "The \"outlines\" part of the .npy files contains the outlines for a particular cell. By iterating through this 2D array, we can obtain the coordinates for the border of the cell we are interested in. Now for each of these coordinates, we can create a 3 x 3 sized 2D matrix subarray where the coordinate we input is the center. This will give us the coordinates for the vertexes\n"
   ]
  },
  {
   "cell_type": "code",
   "execution_count": 88,
   "metadata": {},
   "outputs": [],
   "source": [
    "# function to find the vertexes. \n",
    "# works by looking at the items surround i, j \n",
    "# filters out so only the unique items are found\n",
    "# if it is bordered by more than 3 unique items, then it is a vertex point\n",
    "\n",
    "def findVertex(masks, j, i, k = 2):  \n",
    "    \n",
    "    surr =[masks.item((j+k, i-k)),\n",
    "    masks.item((j+k, i)),\n",
    "    masks.item((j+k, i+k)),\n",
    "    masks.item((j, i-k)),\n",
    "    masks.item((j, i)),\n",
    "    masks.item((j, i+k)),\n",
    "    masks.item((j-k, i-k)),\n",
    "    masks.item((j-k, i)),\n",
    "    masks.item((j-k, i+k))]\n",
    "    # the set() function returns the unique values of the array. If the size of the list is more than\n",
    "    # 2, then we can return j, i. As this means that it is bordered by at least 3 cells\n",
    "    if len(list(set(surr)))>2: \n",
    "        return [j, i]\n",
    "\n",
    "def dist(f, g): # displacement \n",
    "    return np.sqrt((f[0] - g[0])**2 + (f[1] - g[1])**2)\n",
    "\n",
    "def dist2(ListOfSpecificVertex, i): \n",
    "    return np.sqrt[dist(ListOfSpecificVertex[0], ListOfSpecificVertex[i])] # Gets you the T0 - T(n)    "
   ]
  },
  {
   "cell_type": "markdown",
   "metadata": {},
   "source": [
    "What we can do now, is repeat the above function for two different points, and see what happens for the one above and below "
   ]
  },
  {
   "cell_type": "code",
   "execution_count": 89,
   "metadata": {},
   "outputs": [
    {
     "data": {
      "text/plain": [
       "<matplotlib.image.AxesImage at 0x1d7b2c8afd0>"
      ]
     },
     "execution_count": 89,
     "metadata": {},
     "output_type": "execute_result"
    },
    {
     "data": {
      "image/png": "[encoded data removed]",
      "text/plain": [
       "<Figure size 432x288 with 1 Axes>"
      ]
     },
     "metadata": {
      "needs_background": "light"
     },
     "output_type": "display_data"
    }
   ],
   "source": [
    "M = [] # list containing all the masks\n",
    "O = [] # list containing all the outlines\n",
    "\n",
    "for k in range(len(roi_name)): \n",
    "    # Get the file number, and the roi of the cell we are interested in\n",
    "    num, roi = roi_name[k]\n",
    "    dat = np.load(dir[num], allow_pickle=True).item()\n",
    "    masks = dat['masks']\n",
    "    outlines = dat['outlines']\n",
    "\n",
    "    # Get the masks and the outlines of the cell we are interested in\n",
    "    # M.append(specificOutline(masks, roi)) # list containing all the masks\n",
    "    M.append(masks)\n",
    "    O.append(specificOutline(outlines, roi)) # list containing all the outlines\n",
    "    \n",
    "pointsList = []\n",
    "\n",
    "for k in range(len(M)): \n",
    "    points = []\n",
    "    o = O[k]\n",
    "    height, width = o.shape\n",
    "    # iterate through the matrix and get the coordinates that make up the outline\n",
    "    # of the cell we are interested in\n",
    "    for i in range(height): \n",
    "        for j in range(width): \n",
    "            if o[i][j] != 0: \n",
    "                points.append([j, i])\n",
    "    # points is now a list which contains the coordinates for each point that matters for our outline\n",
    "    # store the vertexes for file number k in the array\n",
    "    pointsList.append(points)\n",
    "\n",
    "plt.imshow(O[5])\n",
    "# plt.imshow(M[5])"
   ]
  },
  {
   "cell_type": "code",
   "execution_count": 90,
   "metadata": {},
   "outputs": [],
   "source": [
    "mainVertexList = []\n",
    "for q in range(len(roi_name)): \n",
    "    points = pointsList[q] # specific set of points\n",
    "\n",
    "    X = np.array(pointsList[q])[:, 0]\n",
    "    Y = np.array(pointsList[q])[:, 1]\n",
    "\n",
    "    vertexes = []\n",
    "    for k in range(len(points)): \n",
    "        i, j = points[k]\n",
    "        vert = findVertex(masks, j, i) # This finds if a particular point is a vertex or not\n",
    "        if vert: \n",
    "            vertexes.append(vert)\n",
    "    # Group similar vertexes\n",
    "    masterList = []\n",
    "    count = 0\n",
    "    tempVertex = []\n",
    "    mainVertexList.append(vertexes)\n",
    "\n",
    "    for i in range(len(vertexes)): \n",
    "        masterListTemp = []\n",
    "        if i not in masterList: \n",
    "            masterListTemp.append(i)\n",
    "            commonVertexes = []\n",
    "            # distval = 1: \n",
    "            # while distval < 50 or len(tempVertex) == 11: \n",
    "            for j in range(len(vertexes)): \n",
    "                if i != j and j not in masterList: \n",
    "                    if dist(vertexes[i], vertexes[j]) < 5: \n",
    "                        tempVertex.append(j)\n",
    "                        masterList.append(j)\n",
    "        count += 1"
   ]
  },
  {
   "cell_type": "code",
   "execution_count": 91,
   "metadata": {},
   "outputs": [],
   "source": [
    "for i in range(len(mainVertexList)): \n",
    "    if i < 2: \n",
    "        mainVertexList.pop(i)"
   ]
  },
  {
   "cell_type": "code",
   "execution_count": 92,
   "metadata": {},
   "outputs": [
    {
     "data": {
      "image/png": "[encoded data removed]",
      "text/plain": [
       "<Figure size 432x288 with 2 Axes>"
      ]
     },
     "metadata": {
      "needs_background": "light"
     },
     "output_type": "display_data"
    }
   ],
   "source": [
    "plotSide(O[5], M[5])"
   ]
  },
  {
   "cell_type": "code",
   "execution_count": 93,
   "metadata": {},
   "outputs": [
    {
     "ename": "ValueError",
     "evalue": "Expected 2D array, got 1D array instead:\narray=[].\nReshape your data either using array.reshape(-1, 1) if your data has a single feature or array.reshape(1, -1) if it contains a single sample.",
     "output_type": "error",
     "traceback": [
      "\u001b[1;31m---------------------------------------------------------------------------\u001b[0m",
      "\u001b[1;31mValueError\u001b[0m                                Traceback (most recent call last)",
      "\u001b[1;32mc:\\Users\\birat\\OneDrive\\Desktop\\backe\\CellTension\\Cellpose_Displacement_New.ipynb Cell 12\u001b[0m in \u001b[0;36m<cell line: 13>\u001b[1;34m()\u001b[0m\n\u001b[0;32m     <a href='vscode-notebook-cell:/c%3A/Users/birat/OneDrive/Desktop/backe/CellTension/Cellpose_Displacement_New.ipynb#X13sZmlsZQ%3D%3D?line=12'>13</a>\u001b[0m \u001b[39mfor\u001b[39;00m i \u001b[39min\u001b[39;00m \u001b[39mrange\u001b[39m(\u001b[39mlen\u001b[39m(mainVertexList)): \n\u001b[0;32m     <a href='vscode-notebook-cell:/c%3A/Users/birat/OneDrive/Desktop/backe/CellTension/Cellpose_Displacement_New.ipynb#X13sZmlsZQ%3D%3D?line=13'>14</a>\u001b[0m     X \u001b[39m=\u001b[39m mainVertexList[i]\n\u001b[1;32m---> <a href='vscode-notebook-cell:/c%3A/Users/birat/OneDrive/Desktop/backe/CellTension/Cellpose_Displacement_New.ipynb#X13sZmlsZQ%3D%3D?line=14'>15</a>\u001b[0m     clusts \u001b[39m=\u001b[39m kmeans\u001b[39m.\u001b[39;49mfit_predict(X)\n\u001b[0;32m     <a href='vscode-notebook-cell:/c%3A/Users/birat/OneDrive/Desktop/backe/CellTension/Cellpose_Displacement_New.ipynb#X13sZmlsZQ%3D%3D?line=15'>16</a>\u001b[0m     df \u001b[39m=\u001b[39m pd\u001b[39m.\u001b[39mDataFrame(X)\n\u001b[0;32m     <a href='vscode-notebook-cell:/c%3A/Users/birat/OneDrive/Desktop/backe/CellTension/Cellpose_Displacement_New.ipynb#X13sZmlsZQ%3D%3D?line=16'>17</a>\u001b[0m     df[\u001b[39m\"\u001b[39m\u001b[39mlabels\u001b[39m\u001b[39m\"\u001b[39m] \u001b[39m=\u001b[39m clusts\n",
      "File \u001b[1;32mc:\\Users\\birat\\miniconda3\\lib\\site-packages\\sklearn\\cluster\\_kmeans.py:996\u001b[0m, in \u001b[0;36m_BaseKMeans.fit_predict\u001b[1;34m(self, X, y, sample_weight)\u001b[0m\n\u001b[0;32m    973\u001b[0m \u001b[39mdef\u001b[39;00m \u001b[39mfit_predict\u001b[39m(\u001b[39mself\u001b[39m, X, y\u001b[39m=\u001b[39m\u001b[39mNone\u001b[39;00m, sample_weight\u001b[39m=\u001b[39m\u001b[39mNone\u001b[39;00m):\n\u001b[0;32m    974\u001b[0m     \u001b[39m\"\"\"Compute cluster centers and predict cluster index for each sample.\u001b[39;00m\n\u001b[0;32m    975\u001b[0m \n\u001b[0;32m    976\u001b[0m \u001b[39m    Convenience method; equivalent to calling fit(X) followed by\u001b[39;00m\n\u001b[1;32m   (...)\u001b[0m\n\u001b[0;32m    994\u001b[0m \u001b[39m        Index of the cluster each sample belongs to.\u001b[39;00m\n\u001b[0;32m    995\u001b[0m \u001b[39m    \"\"\"\u001b[39;00m\n\u001b[1;32m--> 996\u001b[0m     \u001b[39mreturn\u001b[39;00m \u001b[39mself\u001b[39;49m\u001b[39m.\u001b[39;49mfit(X, sample_weight\u001b[39m=\u001b[39;49msample_weight)\u001b[39m.\u001b[39mlabels_\n",
      "File \u001b[1;32mc:\\Users\\birat\\miniconda3\\lib\\site-packages\\sklearn\\cluster\\_kmeans.py:1365\u001b[0m, in \u001b[0;36mKMeans.fit\u001b[1;34m(self, X, y, sample_weight)\u001b[0m\n\u001b[0;32m   1339\u001b[0m \u001b[39mdef\u001b[39;00m \u001b[39mfit\u001b[39m(\u001b[39mself\u001b[39m, X, y\u001b[39m=\u001b[39m\u001b[39mNone\u001b[39;00m, sample_weight\u001b[39m=\u001b[39m\u001b[39mNone\u001b[39;00m):\n\u001b[0;32m   1340\u001b[0m     \u001b[39m\"\"\"Compute k-means clustering.\u001b[39;00m\n\u001b[0;32m   1341\u001b[0m \n\u001b[0;32m   1342\u001b[0m \u001b[39m    Parameters\u001b[39;00m\n\u001b[1;32m   (...)\u001b[0m\n\u001b[0;32m   1363\u001b[0m \u001b[39m        Fitted estimator.\u001b[39;00m\n\u001b[0;32m   1364\u001b[0m \u001b[39m    \"\"\"\u001b[39;00m\n\u001b[1;32m-> 1365\u001b[0m     X \u001b[39m=\u001b[39m \u001b[39mself\u001b[39;49m\u001b[39m.\u001b[39;49m_validate_data(\n\u001b[0;32m   1366\u001b[0m         X,\n\u001b[0;32m   1367\u001b[0m         accept_sparse\u001b[39m=\u001b[39;49m\u001b[39m\"\u001b[39;49m\u001b[39mcsr\u001b[39;49m\u001b[39m\"\u001b[39;49m,\n\u001b[0;32m   1368\u001b[0m         dtype\u001b[39m=\u001b[39;49m[np\u001b[39m.\u001b[39;49mfloat64, np\u001b[39m.\u001b[39;49mfloat32],\n\u001b[0;32m   1369\u001b[0m         order\u001b[39m=\u001b[39;49m\u001b[39m\"\u001b[39;49m\u001b[39mC\u001b[39;49m\u001b[39m\"\u001b[39;49m,\n\u001b[0;32m   1370\u001b[0m         copy\u001b[39m=\u001b[39;49m\u001b[39mself\u001b[39;49m\u001b[39m.\u001b[39;49mcopy_x,\n\u001b[0;32m   1371\u001b[0m         accept_large_sparse\u001b[39m=\u001b[39;49m\u001b[39mFalse\u001b[39;49;00m,\n\u001b[0;32m   1372\u001b[0m     )\n\u001b[0;32m   1374\u001b[0m     \u001b[39mself\u001b[39m\u001b[39m.\u001b[39m_check_params(X)\n\u001b[0;32m   1375\u001b[0m     random_state \u001b[39m=\u001b[39m check_random_state(\u001b[39mself\u001b[39m\u001b[39m.\u001b[39mrandom_state)\n",
      "File \u001b[1;32mc:\\Users\\birat\\miniconda3\\lib\\site-packages\\sklearn\\base.py:577\u001b[0m, in \u001b[0;36mBaseEstimator._validate_data\u001b[1;34m(self, X, y, reset, validate_separately, **check_params)\u001b[0m\n\u001b[0;32m    575\u001b[0m     \u001b[39mraise\u001b[39;00m \u001b[39mValueError\u001b[39;00m(\u001b[39m\"\u001b[39m\u001b[39mValidation should be done on X, y or both.\u001b[39m\u001b[39m\"\u001b[39m)\n\u001b[0;32m    576\u001b[0m \u001b[39melif\u001b[39;00m \u001b[39mnot\u001b[39;00m no_val_X \u001b[39mand\u001b[39;00m no_val_y:\n\u001b[1;32m--> 577\u001b[0m     X \u001b[39m=\u001b[39m check_array(X, input_name\u001b[39m=\u001b[39m\u001b[39m\"\u001b[39m\u001b[39mX\u001b[39m\u001b[39m\"\u001b[39m, \u001b[39m*\u001b[39m\u001b[39m*\u001b[39mcheck_params)\n\u001b[0;32m    578\u001b[0m     out \u001b[39m=\u001b[39m X\n\u001b[0;32m    579\u001b[0m \u001b[39melif\u001b[39;00m no_val_X \u001b[39mand\u001b[39;00m \u001b[39mnot\u001b[39;00m no_val_y:\n",
      "File \u001b[1;32mc:\\Users\\birat\\miniconda3\\lib\\site-packages\\sklearn\\utils\\validation.py:879\u001b[0m, in \u001b[0;36mcheck_array\u001b[1;34m(array, accept_sparse, accept_large_sparse, dtype, order, copy, force_all_finite, ensure_2d, allow_nd, ensure_min_samples, ensure_min_features, estimator, input_name)\u001b[0m\n\u001b[0;32m    877\u001b[0m     \u001b[39m# If input is 1D raise error\u001b[39;00m\n\u001b[0;32m    878\u001b[0m     \u001b[39mif\u001b[39;00m array\u001b[39m.\u001b[39mndim \u001b[39m==\u001b[39m \u001b[39m1\u001b[39m:\n\u001b[1;32m--> 879\u001b[0m         \u001b[39mraise\u001b[39;00m \u001b[39mValueError\u001b[39;00m(\n\u001b[0;32m    880\u001b[0m             \u001b[39m\"\u001b[39m\u001b[39mExpected 2D array, got 1D array instead:\u001b[39m\u001b[39m\\n\u001b[39;00m\u001b[39marray=\u001b[39m\u001b[39m{}\u001b[39;00m\u001b[39m.\u001b[39m\u001b[39m\\n\u001b[39;00m\u001b[39m\"\u001b[39m\n\u001b[0;32m    881\u001b[0m             \u001b[39m\"\u001b[39m\u001b[39mReshape your data either using array.reshape(-1, 1) if \u001b[39m\u001b[39m\"\u001b[39m\n\u001b[0;32m    882\u001b[0m             \u001b[39m\"\u001b[39m\u001b[39myour data has a single feature or array.reshape(1, -1) \u001b[39m\u001b[39m\"\u001b[39m\n\u001b[0;32m    883\u001b[0m             \u001b[39m\"\u001b[39m\u001b[39mif it contains a single sample.\u001b[39m\u001b[39m\"\u001b[39m\u001b[39m.\u001b[39mformat(array)\n\u001b[0;32m    884\u001b[0m         )\n\u001b[0;32m    886\u001b[0m \u001b[39mif\u001b[39;00m dtype_numeric \u001b[39mand\u001b[39;00m array\u001b[39m.\u001b[39mdtype\u001b[39m.\u001b[39mkind \u001b[39min\u001b[39;00m \u001b[39m\"\u001b[39m\u001b[39mUSV\u001b[39m\u001b[39m\"\u001b[39m:\n\u001b[0;32m    887\u001b[0m     \u001b[39mraise\u001b[39;00m \u001b[39mValueError\u001b[39;00m(\n\u001b[0;32m    888\u001b[0m         \u001b[39m\"\u001b[39m\u001b[39mdtype=\u001b[39m\u001b[39m'\u001b[39m\u001b[39mnumeric\u001b[39m\u001b[39m'\u001b[39m\u001b[39m is not compatible with arrays of bytes/strings.\u001b[39m\u001b[39m\"\u001b[39m\n\u001b[0;32m    889\u001b[0m         \u001b[39m\"\u001b[39m\u001b[39mConvert your data to numeric values explicitly instead.\u001b[39m\u001b[39m\"\u001b[39m\n\u001b[0;32m    890\u001b[0m     )\n",
      "\u001b[1;31mValueError\u001b[0m: Expected 2D array, got 1D array instead:\narray=[].\nReshape your data either using array.reshape(-1, 1) if your data has a single feature or array.reshape(1, -1) if it contains a single sample."
     ]
    }
   ],
   "source": [
    "import pandas as pd\n",
    "import matplotlib.pyplot as plt \n",
    "import numpy\n",
    "from sklearn.cluster import KMeans\n",
    "\n",
    "import pandas as pd\n",
    "x = []\n",
    "\n",
    "# change num of clusters manually \n",
    "\n",
    "kmeans = KMeans(n_clusters=8, random_state=42) \n",
    "a = []\n",
    "for i in range(len(mainVertexList)): \n",
    "    X = mainVertexList[i]\n",
    "    clusts = kmeans.fit_predict(X)\n",
    "    df = pd.DataFrame(X)\n",
    "    df[\"labels\"] = clusts\n",
    "    df[\"frame\"] = i \n",
    "    x.append(df)"
   ]
  },
  {
   "cell_type": "code",
   "execution_count": 79,
   "metadata": {},
   "outputs": [
    {
     "data": {
      "image/png": "[encoded data removed]",
      "text/plain": [
       "<Figure size 432x288 with 1 Axes>"
      ]
     },
     "metadata": {
      "needs_background": "light"
     },
     "output_type": "display_data"
    }
   ],
   "source": [
    "# I need to relabel the clusters so that it looks nice enough hahahaha\n",
    "allx = pd.concat(x)\n",
    "plt.scatter(allx[1], allx[0])\n",
    "C = list(zip(allx[1], allx[0]))\n",
    "clusts = kmeans.fit_predict(C)\n",
    "\n",
    "# df = pd.DataFrame(X)"
   ]
  },
  {
   "cell_type": "code",
   "execution_count": 80,
   "metadata": {},
   "outputs": [
    {
     "data": {
      "text/plain": [
       "<matplotlib.collections.PathCollection at 0x1d7befac7c0>"
      ]
     },
     "execution_count": 80,
     "metadata": {},
     "output_type": "execute_result"
    },
    {
     "data": {
      "image/png": "[encoded data removed]",
      "text/plain": [
       "<Figure size 432x288 with 1 Axes>"
      ]
     },
     "metadata": {
      "needs_background": "light"
     },
     "output_type": "display_data"
    }
   ],
   "source": [
    "allx[\"clusts2\"] = clusts\n",
    "\n",
    "plt.scatter(allx[1], allx[0], c = allx[\"clusts2\"])"
   ]
  },
  {
   "cell_type": "code",
   "execution_count": 81,
   "metadata": {},
   "outputs": [],
   "source": [
    "import scipy.optimize\n",
    "\n",
    "def expon(t, a, b, c): \n",
    "    return a*t**b \n",
    "\n",
    "\n",
    "def plotMany(bigX, nY, bigY, name, saveName): \n",
    "\n",
    "    plt.clf()\n",
    "    A = scipy.optimize.curve_fit(expon,  bigX,  bigY)\n",
    "    a, b, c = A[0]\n",
    "    nY = []\n",
    "    for i in bigX:\n",
    "        nY.append(expon(i, a, b, c))\n",
    "\n",
    "    plt.clf()\n",
    "    plt.plot(bigX, nY)\n",
    "    plt.scatter(bigX, bigY)\n",
    "\n",
    "    plt.suptitle(\"Wing\")\n",
    "    plt.title(\"Cluster \" + str(k))\n",
    "    plt.xlabel(\"Time (s)\")\n",
    "    plt.ylabel(\"displacement \" + r'($\\mu$m)')\n",
    "\n",
    "    savedir = Path.joinpath(Path.cwd(), saveName)\n",
    "    fname = str(savedir) + \"\\{}.png\".format(name)\n",
    "    if os.path.exists(savedir) == False: \n",
    "        os.mkdir(savedir)\n",
    "\n",
    "    if os.path.exists(fname): \n",
    "        print(\"file exists already\")\n",
    "        plt.savefig(fname)\n",
    "        plt.clf()\n",
    "        print(\"saved anyways\")\n",
    "    else: \n",
    "        plt.savefig(fname)\n",
    "        plt.clf()\n",
    "        print(\"saved\")\n",
    "        "
   ]
  },
  {
   "cell_type": "code",
   "execution_count": 82,
   "metadata": {},
   "outputs": [
    {
     "name": "stderr",
     "output_type": "stream",
     "text": [
      "C:\\Users\\birat\\AppData\\Local\\Temp\\ipykernel_12108\\1131697788.py:44: RuntimeWarning: divide by zero encountered in power\n",
      "  return a*t**b\n",
      "c:\\Users\\birat\\miniconda3\\lib\\site-packages\\scipy\\optimize\\_minpack_py.py:833: OptimizeWarning: Covariance of the parameters could not be estimated\n",
      "  warnings.warn('Covariance of the parameters could not be estimated',\n"
     ]
    },
    {
     "name": "stdout",
     "output_type": "stream",
     "text": [
      "file exists already\n",
      "saved anyways\n",
      "file exists already\n",
      "saved anyways\n",
      "wut 25\n",
      "wut 63\n",
      "wut 91\n",
      "file exists already\n",
      "saved anyways\n",
      "wut 1\n",
      "wut 2\n",
      "wut 5\n",
      "wut 7\n",
      "wut 8\n",
      "wut 9\n",
      "wut 10\n",
      "wut 11\n",
      "wut 19\n",
      "wut 23\n",
      "wut 24\n",
      "wut 25\n",
      "wut 26\n",
      "wut 29\n",
      "wut 30\n",
      "wut 32\n",
      "wut 33\n",
      "wut 34\n",
      "wut 38\n",
      "wut 39\n",
      "wut 40\n",
      "wut 42\n",
      "wut 43\n",
      "wut 44\n",
      "wut 45\n",
      "wut 46\n",
      "wut 47\n",
      "wut 48\n",
      "wut 49\n",
      "wut 50\n",
      "wut 51\n",
      "wut 52\n",
      "wut 53\n",
      "wut 54\n",
      "wut 55\n",
      "wut 56\n",
      "wut 57\n",
      "wut 58\n",
      "wut 59\n",
      "wut 60\n",
      "wut 61\n",
      "wut 63\n",
      "wut 64\n",
      "wut 65\n",
      "wut 67\n",
      "wut 69\n",
      "wut 70\n",
      "wut 71\n",
      "wut 73\n",
      "wut 74\n",
      "wut 75\n",
      "wut 76\n",
      "wut 77\n",
      "wut 78\n",
      "wut 80\n",
      "wut 81\n",
      "wut 82\n",
      "wut 83\n",
      "wut 84\n",
      "wut 85\n",
      "wut 86\n",
      "wut 87\n",
      "wut 89\n",
      "wut 90\n",
      "wut 91\n",
      "wut 94\n",
      "wut 95\n",
      "wut 97\n",
      "file exists already\n",
      "saved anyways\n",
      "wut 1\n",
      "file exists already\n",
      "saved anyways\n",
      "wut 0\n",
      "file exists already\n",
      "saved anyways\n",
      "file exists already\n",
      "saved anyways\n",
      "wut 0\n",
      "wut 18\n",
      "file exists already\n",
      "saved anyways\n",
      "file exists already\n",
      "saved anyways\n",
      "wut 0\n",
      "file exists already\n",
      "saved anyways\n",
      "wut 1\n",
      "file exists already\n",
      "saved anyways\n",
      "file exists already\n",
      "saved anyways\n",
      "file exists already\n",
      "saved anyways\n",
      "wut 0\n",
      "file exists already\n",
      "saved anyways\n",
      "wut 0\n",
      "wut 20\n",
      "wut 29\n",
      "wut 45\n",
      "wut 57\n",
      "wut 70\n",
      "wut 73\n",
      "wut 76\n",
      "wut 80\n",
      "wut 86\n",
      "wut 90\n",
      "wut 97\n",
      "file exists already\n",
      "saved anyways\n"
     ]
    },
    {
     "data": {
      "text/plain": [
       "<Figure size 432x288 with 0 Axes>"
      ]
     },
     "metadata": {},
     "output_type": "display_data"
    }
   ],
   "source": [
    "import scipy.optimize\n",
    "\n",
    "avgVertex = []\n",
    "k = 1\n",
    "\n",
    "bigX = bigX + tempX\n",
    "\n",
    "for k in range(len(set(clusts))): \n",
    "    displacementlist = []\n",
    "    avgVertex = []\n",
    "    for i in range(len(mainVertexList)): \n",
    "        b = allx.loc[allx[\"frame\"] == i]\n",
    "        a = b.loc[b[\"clusts2\"] == k] # gives us the clusters for the frame and the cluster number\n",
    "        # plt.scatter(a[1], a[0])\n",
    "        if len(a) !=0: \n",
    "            avgA = [np.sum(a[1])/len(a[1]), np.sum(a[0])/len(a[0])]\n",
    "        # plt.scatter(avgA[1], avgA[0])\n",
    "            avgVertex.append(avgA)\n",
    "        else: \n",
    "            print(\"wut\", i)\n",
    "\n",
    "    displacementlist = []\n",
    "    \n",
    "    for i in range(len(avgVertex)): \n",
    "        displacementlist.append(dist(avgVertex[0], avgVertex[i]))\n",
    "\n",
    "    pixelToScale = 1/7.5879 * 10**(-6)\n",
    "    bigY = np.array(displacementlist) * pixelToScale\n",
    "\n",
    "    bigX = 0 \n",
    "\n",
    "    tempX = np.arange(0.549, stepsize * (len(bigY)  + 2), stepsize).tolist()\n",
    "    bigX = [ 0.549/3 * i for i in range(3)]\n",
    "    bigX = bigX + tempX\n",
    "\n",
    "    if len(bigX) < len(bigY): \n",
    "        print(\"probelm\")\n",
    "        break\n",
    "\n",
    "    while len(bigX) != len(bigY): \n",
    "        bigX.pop(-1)\n",
    "\n",
    "    def expon(t, a, b, c): \n",
    "        return a*t**b \n",
    "    A = scipy.optimize.curve_fit(expon,  bigX,  bigY)\n",
    "    a, b, c = A[0]\n",
    "    nY = []\n",
    "    for i in bigX:\n",
    "        nY.append(expon(i, a, b, c))\n",
    "\n",
    "    plt.clf()\n",
    "    plotMany(bigX, nY, bigY, str(k), \"WingPlots\")\n",
    "    plt.clf()"
   ]
  },
  {
   "cell_type": "code",
   "execution_count": 83,
   "metadata": {},
   "outputs": [
    {
     "name": "stderr",
     "output_type": "stream",
     "text": [
      "C:\\Users\\birat\\AppData\\Local\\Temp\\ipykernel_12108\\1485471185.py:38: RuntimeWarning: divide by zero encountered in power\n",
      "  return a*t**b\n"
     ]
    },
    {
     "data": {
      "text/plain": [
       "Text(0, 0.5, 'displacement ($\\\\mu$m)')"
      ]
     },
     "execution_count": 83,
     "metadata": {},
     "output_type": "execute_result"
    },
    {
     "data": {
      "image/png": "[encoded data removed]",
      "text/plain": [
       "<Figure size 432x288 with 1 Axes>"
      ]
     },
     "metadata": {
      "needs_background": "light"
     },
     "output_type": "display_data"
    }
   ],
   "source": [
    "k = 0 \n",
    "\n",
    "displacementlist = []\n",
    "bigX = []\n",
    "bigY = []\n",
    "nY = []\n",
    "avgVertex = []\n",
    "for i in range(len(mainVertexList)): \n",
    "    b = allx.loc[allx[\"frame\"] == i]\n",
    "    a = b.loc[b[\"clusts2\"] == k] # gives us the clusters for the frame and the cluster number\n",
    "    # plt.scatter(a[1], a[0])\n",
    "    if len(a) !=0: \n",
    "        avgA = [np.sum(a[1])/len(a[1]), np.sum(a[0])/len(a[0])]\n",
    "    # plt.scatter(avgA[1], avgA[0])\n",
    "        avgVertex.append(avgA)\n",
    "    else: \n",
    "        print(\"wut\", i)\n",
    "\n",
    "\n",
    "displacementlist = []\n",
    "\n",
    "for i in range(len(avgVertex)): \n",
    "    displacementlist.append(dist(avgVertex[0], avgVertex[i]))\n",
    "\n",
    "pixelToScale = 1/7.5879 * 10**(-6)\n",
    "bigY = np.array(displacementlist) * pixelToScale\n",
    "\n",
    "bigX = 0 \n",
    "\n",
    "tempX = np.arange(0.549, stepsize * (len(bigY)  + 2), stepsize).tolist()\n",
    "bigX = [ 0.549/3 * i for i in range(3)]\n",
    "bigX = bigX + tempX\n",
    "\n",
    "while len(bigX) != len(bigY): \n",
    "    bigX.pop(-1)\n",
    "\n",
    "def expon(t, a, b, c): \n",
    "    return a*t**b \n",
    "A = scipy.optimize.curve_fit(expon,  bigX,  bigY)\n",
    "a, b, c = A[0]\n",
    "nY = []\n",
    "for i in bigX:\n",
    "    nY.append(expon(i, a, b, c))\n",
    "\n",
    "import scipy.optimize\n",
    "\n",
    "A = scipy.optimize.curve_fit(expon,  bigX,  bigY)\n",
    "\n",
    "a, b, c = A[0]\n",
    "nY = []\n",
    "for i in bigX:\n",
    "    nY.append(expon(i, a, b, c))\n",
    "\n",
    "\n",
    "plt.clf()\n",
    "plt.plot(bigX, nY)\n",
    "plt.scatter(bigX, bigY)\n",
    "\n",
    "plt.suptitle(\"Wing\")\n",
    "plt.title(\"Cluster \" + str(k))\n",
    "plt.xlabel(\"Time (s)\")\n",
    "plt.ylabel(\"displacement \" + r'($\\mu$m)')"
   ]
  },
  {
   "cell_type": "code",
   "execution_count": null,
   "metadata": {},
   "outputs": [
    {
     "data": {
      "text/plain": [
       "array([0.00000000e+00, 3.06191549e-07, 2.75128638e-07, 1.63167047e-07,\n",
       "       2.46034517e-07, 2.75128638e-07, 2.18039526e-07, 2.75128638e-07,\n",
       "       2.46034517e-07, 2.46034517e-07, 3.06191549e-07, 2.46034517e-07,\n",
       "       2.46034517e-07, 2.46034517e-07, 2.18039526e-07, 2.46034517e-07,\n",
       "       2.46034517e-07, 2.46034517e-07, 2.46034517e-07, 1.95454185e-07,\n",
       "       2.04416900e-07, 2.46034517e-07, 1.07405000e-05, 1.07593975e-05,\n",
       "       1.08498537e-05, 1.07405000e-05, 1.07405000e-05, 1.08224851e-05,\n",
       "       1.08224851e-05, 1.07405000e-05, 1.07405000e-05, 1.07405000e-05,\n",
       "       1.08498537e-05, 1.08224851e-05, 1.07405000e-05, 1.08224851e-05,\n",
       "       1.08498537e-05, 1.08224851e-05, 1.07405000e-05, 1.08498537e-05,\n",
       "       1.08224851e-05, 1.08036980e-05, 5.20970145e-06, 5.38088550e-06,\n",
       "       5.36263145e-06, 5.36700662e-06, 5.38088550e-06, 5.36700662e-06,\n",
       "       5.35838237e-06, 5.20970145e-06, 5.36263145e-06, 5.36700662e-06,\n",
       "       5.36263145e-06, 5.36263145e-06, 5.43964560e-06, 5.37150756e-06,\n",
       "       5.36700662e-06, 5.36700662e-06, 5.35838237e-06, 5.36263145e-06,\n",
       "       5.34265272e-06, 5.38088550e-06, 5.36263145e-06, 5.36700662e-06,\n",
       "       5.27614388e-06, 5.25355458e-06, 4.87600272e-06, 5.03896170e-06,\n",
       "       5.08557467e-06, 5.34442184e-06, 5.11573420e-06, 5.14393257e-06,\n",
       "       4.51509765e-06, 5.08557467e-06, 5.10060863e-06, 5.36288766e-06,\n",
       "       5.30791102e-06, 5.30791102e-06, 5.02598530e-06, 5.34442184e-06,\n",
       "       5.02598530e-06, 5.32733309e-06, 4.99056301e-06, 5.15033422e-06,\n",
       "       5.07063316e-06, 5.00022095e-06, 5.10349731e-06, 5.07235941e-06,\n",
       "       4.89042019e-06, 3.45827430e-06, 3.36548874e-06, 3.36883416e-06,\n",
       "       3.40276352e-06, 3.26995273e-06, 3.34270453e-06, 3.41652971e-06,\n",
       "       3.30267745e-06, 3.26995273e-06, 3.39313971e-06, 3.39773294e-06,\n",
       "       3.43511902e-06, 3.30267745e-06, 3.39313971e-06, 3.42138364e-06,\n",
       "       3.44999113e-06, 3.41183914e-06, 3.41640723e-06, 3.39907010e-06,\n",
       "       3.40087741e-06, 3.39976402e-06, 3.41407204e-06, 1.09441412e-05,\n",
       "       1.09441412e-05, 1.09441412e-05, 1.09441412e-05, 1.09547066e-05,\n",
       "       1.09769301e-05, 1.10491091e-05, 1.09441412e-05, 1.09463168e-05,\n",
       "       1.09547066e-05, 1.10022939e-05, 1.09547066e-05, 1.09547066e-05,\n",
       "       1.09547066e-05, 1.10491091e-05, 1.09809440e-05, 1.09441412e-05,\n",
       "       1.09809440e-05, 1.09547066e-05, 1.09809440e-05, 7.53747916e-06,\n",
       "       7.55646536e-06, 7.55646536e-06, 7.53269540e-06, 7.55646536e-06,\n",
       "       7.58041537e-06, 7.55646536e-06, 7.55646536e-06, 7.58041537e-06,\n",
       "       7.55646536e-06, 7.55646536e-06, 7.55646536e-06, 7.50122338e-06,\n",
       "       7.55575732e-06, 7.55646536e-06, 7.55646536e-06, 7.55646536e-06,\n",
       "       7.53269540e-06, 7.58041537e-06, 7.55646536e-06, 1.02984585e-05,\n",
       "       1.02346484e-05, 1.02017083e-05, 1.02984585e-05, 1.02984585e-05,\n",
       "       1.02116971e-05, 1.02346484e-05, 1.02989705e-05, 1.02346484e-05,\n",
       "       1.02116971e-05, 1.02052950e-05, 1.02989705e-05, 1.02984585e-05,\n",
       "       1.02346484e-05, 1.02989705e-05, 1.02346484e-05, 1.02346484e-05,\n",
       "       1.02989705e-05, 1.02346484e-05, 1.02346484e-05])"
      ]
     },
     "execution_count": 38,
     "metadata": {},
     "output_type": "execute_result"
    }
   ],
   "source": []
  },
  {
   "cell_type": "code",
   "execution_count": null,
   "metadata": {},
   "outputs": [],
   "source": []
  },
  {
   "cell_type": "code",
   "execution_count": null,
   "metadata": {},
   "outputs": [],
   "source": []
  },
  {
   "cell_type": "code",
   "execution_count": null,
   "metadata": {},
   "outputs": [
    {
     "name": "stdout",
     "output_type": "stream",
     "text": [
      "c:\\Users\\birat\\OneDrive\\Desktop\\backe\\CellTension\\Wing\\he.png\n"
     ]
    }
   ],
   "source": [
    "name = \"he\"\n",
    "savedir = Path.joinpath(Path.cwd(), \"Wing\")\n",
    "if os.path.exists(savedir): \n",
    "    fname = str(savedir) + \"\\\\{}.png\".format(name)\n",
    "\n",
    "print(fname)\n"
   ]
  },
  {
   "cell_type": "code",
   "execution_count": null,
   "metadata": {},
   "outputs": [
    {
     "data": {
      "text/plain": [
       "Text(0, 0.5, 'displacement ($\\\\mu$m)')"
      ]
     },
     "execution_count": 21,
     "metadata": {},
     "output_type": "execute_result"
    },
    {
     "data": {
      "image/png": "[encoded data removed]",
      "text/plain": [
       "<Figure size 432x288 with 1 Axes>"
      ]
     },
     "metadata": {
      "needs_background": "light"
     },
     "output_type": "display_data"
    }
   ],
   "source": [
    "coeffs = numpy.polyfit(bigX, bigY, deg=5)\n",
    "poly = numpy.poly1d(coeffs)\n",
    "\n",
    "plt.plot(bigX, poly(bigX))\n",
    "plt.scatter(bigX, bigY)\n",
    "plt.title(\"Cluster \" + str(k))\n",
    "plt.xlabel(\"Time (s)\")\n",
    "plt.ylabel(\"displacement \" + r'($\\mu$m)')"
   ]
  },
  {
   "cell_type": "code",
   "execution_count": null,
   "metadata": {},
   "outputs": [],
   "source": [
    "# def filterVertex(points, masks, distVal = 5): \n",
    "#     vertexes = []\n",
    "#     for k in range(len(points)): \n",
    "#         i, j = points[k]\n",
    "#         vert = findVertex(masks, j, i)\n",
    "#         if vert: \n",
    "#             vertexes.append(vert)\n",
    "#     # now in the vertexes file, there are some points which are overlapping with others\n",
    "#     # in order to fix this, we can remove the points in the vertex file which are close to\n",
    "#     # each other. \n",
    "    \n",
    "#     vertexes = np.array(vertexes)\n",
    "\n",
    "#     for i in range(len(vertexes)): \n",
    "#         if len(vertexes[i]) > 1: \n",
    "#             a, b = vertexes[i]\n",
    "#             for j in range(len(vertexes)): \n",
    "#                 if i != j: \n",
    "#                     c, d = vertexes[j]\n",
    "#                     dist = np.sqrt((a - c)**2 + (b - d)**2) # displacement formula\n",
    "#                     if dist < distVal: # distval determines the max distance between vertexes\n",
    "#                         vertexes[j] = -1 # setting those values as -1\n",
    "\n",
    "#     # now we filter out the entries with -1, giving us the values we require\n",
    "#     vert2 = []\n",
    "#     for i in range(len(vertexes)): \n",
    "#         if vertexes[i][0] > 0: \n",
    "#             vert2.append(vertexes[i])\n",
    "#     return vert2"
   ]
  },
  {
   "cell_type": "code",
   "execution_count": null,
   "metadata": {},
   "outputs": [],
   "source": [
    "# pointsList = []\n",
    "\n",
    "# for k in range(len(M)): \n",
    "#     points = []\n",
    "#     o = O[k]\n",
    "#     height, width = o.shape\n",
    "#     # iterate through the matrix and get the coordinates that make up the outline\n",
    "#     # of the cell we are interested in\n",
    "#     for i in range(height): \n",
    "#         for j in range(width): \n",
    "#             if o[i][j] != 0: \n",
    "#                 points.append([j, i])\n",
    "#     # points is now a list which contains the coordinates for each point that matters for our outline\n",
    "#     # store the vertexes for file number k in the array\n",
    "#     pointsList.append(points)"
   ]
  },
  {
   "cell_type": "code",
   "execution_count": null,
   "metadata": {},
   "outputs": [],
   "source": [
    "# # code ensures each image has the same number of vertexes\n",
    "# # now we get the vertexes for each file, and we get the lengths for each file as well\n",
    "\n",
    "# vertexList = []\n",
    "# lengths = []\n",
    "# for k in range(len(pointsList)): \n",
    "#     possibleVertex = filterVertex(pointsList[k], M[k])\n",
    "#     if len(possibleVertex) == 11: \n",
    "#         vertexList.append(possibleVertex)\n",
    "#         lengths.append(len(possibleVertex))\n",
    "#     else: \n",
    "#         for i in range(50): \n",
    "#             possibleVertex = filterVertex(pointsList[k], M[k], distVal= i* 0.2)\n",
    "#             if len(possibleVertex) == 11: \n",
    "#                 vertexList.append(possibleVertex)\n",
    "#                 lengths.append(len(possibleVertex))\n",
    "#                 break \n",
    "# print(len(lengths))"
   ]
  },
  {
   "cell_type": "code",
   "execution_count": null,
   "metadata": {},
   "outputs": [],
   "source": [
    "# # Attempt for getting displacement\n",
    "\n",
    "# def dist(f, g): \n",
    "#     return np.sqrt((f[0] - g[0])**2 + (f[1] - g[1])**2)\n",
    "# displacementList = [[] ]* (len(vertexList) - 1)\n",
    "\n",
    "# for k in range(len(vertexList) - 1): \n",
    "#     displacement =[]\n",
    "#     v1 = vertexList[k]\n",
    "#     v2 = vertexList[k + 1]\n",
    "#     for j in range(len(v1)): \n",
    "#         f = v1[j]\n",
    "#         potentialDist = 100\n",
    "#         for h in range(len(v2)): \n",
    "#                 g = v2[h]\n",
    "#                 dtest = dist(f, g) # iterate through and find which ones have the small displacement\n",
    "#                 if dtest < potentialDist: \n",
    "#                     potentialDist = dtest\n",
    "#         displacement.append(potentialDist)\n",
    "#     displacementList[k] = displacement"
   ]
  },
  {
   "cell_type": "code",
   "execution_count": null,
   "metadata": {},
   "outputs": [],
   "source": [
    "# A = []\n",
    "# mainlist = []\n",
    "# NewPointsList = []\n",
    "\n",
    "# i = 0\n",
    "# # for i in range(len([1])): \n",
    "#     # if i not in mainlist:\n",
    "#     #     mainlist.append(i)\n",
    "#     #     mainlist.append(i + 1)\n",
    "\n",
    "#     # a list of points for a specific outline\n",
    "\n",
    "# for i in range(len(VlistF)):\n",
    "#     A = VlistF[i] # Getting the vertexes for a specific file\n",
    "#     NewPointsList = []\n",
    "#     for k in range(len(A)):\n",
    "#         a = A[k]\n",
    "#         a = np.array(a)\n",
    "#         G = [np.average(a[:, 0]), np.average(a[:, 1])]\n",
    "#         NewPointsList.append(G)\n",
    "#     mainlist.append(NewPointsList)\n"
   ]
  },
  {
   "cell_type": "code",
   "execution_count": null,
   "metadata": {},
   "outputs": [],
   "source": [
    "# k = 65\n",
    "\n",
    "# X1 = np.array(mainlist[k])\n",
    "\n",
    "# x = X1[:, 0]\n",
    "# y = X1[:, 1]\n",
    "\n",
    "# plt.scatter(y, x)\n",
    "# plt.imshow(O[k])"
   ]
  },
  {
   "cell_type": "code",
   "execution_count": null,
   "metadata": {},
   "outputs": [],
   "source": [
    "# mainlist[0]\n",
    "# print(mainlist[0])\n",
    "# print(mainlist[1])\n",
    "\n",
    "# vertexList = mainlist"
   ]
  },
  {
   "cell_type": "code",
   "execution_count": null,
   "metadata": {},
   "outputs": [],
   "source": [
    "# code ensures each image has the same number of vertexes\n",
    "# now we get the vertexes for each file, and we get the lengths for each file as well\n",
    "# lengths = []\n",
    "\n",
    "# for k in range(len(pointsList)): \n",
    "#     possibleVertex = filterVertex(pointsList[k], M[k])\n",
    "#     if len(possibleVertex) == 11: \n",
    "#         vertexList.append(possibleVertex)\n",
    "#         lengths.append(len(possibleVertex))\n",
    "#     else: \n",
    "#         for i in range(10): \n",
    "#             possibleVertex = filterVertex(pointsList[k], M[k], distVal=i)\n",
    "#             if len(possibleVertex) == 11: \n",
    "#                 vertexList.append(possibleVertex)\n",
    "#                 lengths.append(len(possibleVertex))\n",
    "#                 break"
   ]
  },
  {
   "cell_type": "code",
   "execution_count": null,
   "metadata": {},
   "outputs": [],
   "source": [
    "# # Attempt for getting displacement\n",
    "\n",
    "# def dist(f, g): \n",
    "#     return np.sqrt((f[0] - g[0])**2 + (f[1] - g[1])**2)\n",
    "# displacementList = [[] ]* (len(vertexList) - 1)\n",
    "\n",
    "# for k in range(len(vertexList) - 1): \n",
    "#     displacement =[]\n",
    "#     v1 = vertexList[k]\n",
    "#     v2 = vertexList[k + 1]\n",
    "#     for j in range(len(v1)): \n",
    "#         f = v1[j]\n",
    "#         potentialDist = 100\n",
    "#         for h in range(len(v2)): \n",
    "#                 g = v2[h]\n",
    "#                 dtest = dist2(f, g) # iterate through and find which ones have the small displacement\n",
    "#                 if dtest < potentialDist: \n",
    "#                     potentialDist = dtest\n",
    "#         displacement.append(potentialDist)\n",
    "#     displacementList[k] = displacement"
   ]
  },
  {
   "cell_type": "code",
   "execution_count": null,
   "metadata": {},
   "outputs": [],
   "source": [
    "# D = np.asarray(displacementList, dtype = \"object\")"
   ]
  },
  {
   "cell_type": "markdown",
   "metadata": {},
   "source": [
    "# Problems with this\n",
    "this method provides much better vertex detetection than the others for sure, but as the lists are created using the append method, there is no way to tell in which direction they are appended. The position of the vertexes may change after ablation, hence the order in which they are appended may change as well. To counteract this, we can take every entry in \"vertexList\" and compare it with the next entry in vertexList and see which element will have the least displacement. We can then just interchange those points"
   ]
  },
  {
   "cell_type": "code",
   "execution_count": null,
   "metadata": {},
   "outputs": [],
   "source": [
    "# # for i in range(len(vertexList) - 1):\n",
    "\n",
    "# i = 0 \n",
    "\n",
    "# A= np.asarray(vertexList[i])\n",
    "# B = np.asarray(vertexList[i + 1])\n",
    "# C = B - A\n",
    "# print(C[i])\n",
    "# D = []\n",
    "# for i in range(len(C)): \n",
    "#     if C[i][0] + C[i][1] != 0: # now we have the points that we need\n",
    "#         D.append([i, C[i]])\n",
    "# small = 0\n"
   ]
  },
  {
   "cell_type": "code",
   "execution_count": null,
   "metadata": {},
   "outputs": [],
   "source": [
    "# c = []\n",
    "# for value in range(80):\n",
    "#     x = np.asarray(vertexList[value])[:, 0]\n",
    "#     y = np.asarray(vertexList[value])[:, 1]\n",
    "#     # plt.scatter(y[0], x[0], marker = \"x\", color = \"red\")\n",
    "#     c.append(list(zip(x, y)))\n",
    "# c[0]"
   ]
  },
  {
   "cell_type": "code",
   "execution_count": null,
   "metadata": {},
   "outputs": [],
   "source": [
    "# vert = []\n",
    "# for i in range(len(displacementList)): \n",
    "#     vert.append(displacementList[i][1])\n"
   ]
  },
  {
   "cell_type": "code",
   "execution_count": null,
   "metadata": {},
   "outputs": [],
   "source": [
    "# X = np.arange(0, len(displacementList), 1 )\n",
    "# plt.scatter(X, vert)\n",
    "# Y = []\n",
    "\n",
    "# for i in vert: \n",
    "#     if i < 5: \n",
    "#         Y.append(i)\n",
    "\n",
    "# X = np.arange(0, len(Y), 1)\n",
    "\n",
    "# cummulation =  [Y[0]]\n",
    "# for i in range(1,len(Y)): \n",
    "#     cummulation.append(Y[i] + cummulation[i - 1]) \n",
    "\n",
    "# plt.scatter(X, cummulation)"
   ]
  },
  {
   "cell_type": "code",
   "execution_count": null,
   "metadata": {},
   "outputs": [],
   "source": [
    "\n",
    "# v = 5\n",
    "\n",
    "# for value in range(88):\n",
    "#     x = np.asarray(vertexList[value])[:, 0]\n",
    "#     y = np.asarray(vertexList[value])[:, 1]\n",
    "\n",
    "#     plt.scatter(y, x, marker = \"x\", color = \"red\")\n",
    "\n",
    "# plt.imshow(O[10])\n",
    "\n"
   ]
  }
 ],
 "metadata": {
  "kernelspec": {
   "display_name": "Python 3.9.12 ('base')",
   "language": "python",
   "name": "python3"
  },
  "language_info": {
   "codemirror_mode": {
    "name": "ipython",
    "version": 3
   },
   "file_extension": ".py",
   "mimetype": "text/x-python",
   "name": "python",
   "nbconvert_exporter": "python",
   "pygments_lexer": "ipython3",
   "version": "3.9.12"
  },
  "orig_nbformat": 4,
  "vscode": {
   "interpreter": {
    "hash": "d850ae00bc40dfc8433057f5becab0d0ff9bac1b3b7822254cc13391e260b37a"
   }
  }
 },
 "nbformat": 4,
 "nbformat_minor": 2
}
