{
 "cells": [
  {
   "cell_type": "markdown",
   "metadata": {},
   "source": [
    "# New Try\n",
    "The other methods of displacement finding weren't so nice. So this time let's try by first finding the ROI we need as well as all the ROIs that surround it"
   ]
  },
  {
   "cell_type": "code",
   "execution_count": 1,
   "metadata": {},
   "outputs": [],
   "source": [
    "# Imports\n",
    "\n",
    "import numpy as np\n",
    "import matplotlib.pyplot as plt\n",
    "from cellpose import models, io\n",
    "from cellpose.io import imread\n",
    "from pathlib import Path\n",
    "import os\n",
    "from Modules import specificOutline, getFileDir, getOutlines, smoother, splitImg, plotSide # Custom module for readability\n",
    "import Modules_Displacement # custom module for readability\n",
    "import Modules\n",
    "from PIL import Image\n",
    "\n",
    "# List of Files\n",
    "# Importing all the files\n",
    "\n",
    "# If the folder containing the .npy and png (or .tif files) are stored \n",
    "npyDir = \"MCA_Normal\"\n",
    "basedir = os.path.join(Path.cwd(), npyDir)\n",
    "\n",
    "files = io.get_image_files(basedir, \"\")\n",
    "\n",
    "# Makes the directy to point to the seg files\n",
    "dir = []\n",
    "for f in files: \n",
    "    dir.append((os.path.join(basedir, f) + \"_seg.npy\").replace(\".tif\", \"\"))\n",
    "dir = dir"
   ]
  },
  {
   "cell_type": "code",
   "execution_count": 2,
   "metadata": {},
   "outputs": [],
   "source": [
    "\n",
    "roi_name = [] # a list containing the name of the roi we need\n",
    "\n",
    "for i in range(len(dir)):  \n",
    "    dat = np.load(dir[i], allow_pickle=True).item()\n",
    "    masks = dat['masks'] # Using the masks gives us a larger target to select from than outlines\n",
    "    filenam = dat['filename']\n",
    "    width, height = masks.shape\n",
    "    neededROI = masks[width//2][height//2] # the general area of where our ROI will always be\n",
    "    # the below code saves the outline in an image file\n",
    "    if neededROI != 0: \n",
    "        roi_name.append([i, neededROI])\n",
    "\n"
   ]
  },
  {
   "cell_type": "markdown",
   "metadata": {},
   "source": [
    "# Method\n",
    "The thought process for this method is that the cell we want will be boreder by other cells. However, the vertexes of those cells will be bordered by 3 cells. The cell we want, and two other cells. \n",
    "\n",
    "The \"outlines\" part of the .npy files contains the outlines for a particular cell. By iterating through this 2D array, we can obtain the coordinates for the border of the cell we are interested in. Now for each of these coordinates, we can create a 3 x 3 sized 2D matrix subarray where the coordinate we input is the center. This will give us the coordinates for the vertexes\n"
   ]
  },
  {
   "cell_type": "code",
   "execution_count": 3,
   "metadata": {},
   "outputs": [],
   "source": [
    "num, roi = roi_name[5]\n",
    "\n",
    "dat = np.load(dir[num], allow_pickle=True).item()\n",
    "masks = dat['masks']\n",
    "outlines = dat['outlines']\n",
    "\n",
    "m = specificOutline(masks, roi)\n",
    "o = specificOutline(outlines, roi) # the 2D array with the outlines\n"
   ]
  },
  {
   "cell_type": "code",
   "execution_count": 4,
   "metadata": {},
   "outputs": [],
   "source": [
    "height, width = o.shape \n",
    "points = []\n",
    "\n",
    "for i in range(height): \n",
    "    for j in range(width): \n",
    "        if o[i][j] != 0: \n",
    "            points.append([j, i])\n",
    "\n",
    "points = np.array(points)\n",
    "\n",
    "# this will highlight the outline we want\n",
    "# x = points[:, 0]\n",
    "# y = points[:, 1]\n",
    "# plt.scatter(x, y, marker = \".\")\n",
    "# plt.imshow(o)\n",
    "\n",
    "# points is now a list which contains the coordinates for each point that matters for our outline"
   ]
  },
  {
   "cell_type": "code",
   "execution_count": 5,
   "metadata": {},
   "outputs": [],
   "source": [
    "\n",
    "# function to find the vertexes. \n",
    "# works by looking at the items surround i, j \n",
    "# filters out so only the unique items are found\n",
    "# if it is bordered by more than 3 unique items, then it is a vertex point\n",
    "\n",
    "def findVertex(masks, j, i, k = 2):  \n",
    "    surr =[masks.item((j+k, i-k)),\n",
    "    masks.item((j+k, i)),\n",
    "    masks.item((j+k, i+k)),\n",
    "    masks.item((j, i-k)),\n",
    "    masks.item((j, i)),\n",
    "    masks.item((j, i+k)),\n",
    "    masks.item((j-k, i-k)),\n",
    "    masks.item((j-k, i)),\n",
    "    masks.item((j-k, i+k))]\n",
    "\n",
    "    # the set() function returns the unique values of the array. If the size of the list is more than\n",
    "    # 2, then we can return j, i. As this means that it is bordered by at least 3 cells\n",
    "    if len(list(set(surr)))>2: \n",
    "        return [j, i]"
   ]
  },
  {
   "cell_type": "code",
   "execution_count": 6,
   "metadata": {},
   "outputs": [],
   "source": [
    "# first lets find the vertex points for the roi we are interested\n",
    "# points contains the coordinates for the outline we are interested in\n",
    "\n",
    "def filterVertex(points, masks, distVal = 5): \n",
    "    vertexes = []\n",
    "    for k in range(len(points)): \n",
    "        i, j = points[k]\n",
    "        vert = findVertex(masks, j, i)\n",
    "        if vert: \n",
    "            vertexes.append(vert)\n",
    "    # now in the vertexes file, there are some points which are overlapping with others\n",
    "    # in order to fix this, we can remove the points in the vertex file which are close to\n",
    "    # each other. \n",
    "    vertexes = np.array(vertexes)\n",
    "\n",
    "    for i in range(len(vertexes)): \n",
    "        if len(vertexes[i]) > 1: \n",
    "            a, b = vertexes[i]\n",
    "            for j in range(len(vertexes)): \n",
    "                if i != j: \n",
    "                    c, d = vertexes[j]\n",
    "                    dist = np.sqrt((a - c)**2 + (b - d)**2) # displacement formula\n",
    "                    if dist < distVal: # distval determines the max distance between vertexes\n",
    "                        vertexes[j] = -1 # setting those values as -1\n",
    "\n",
    "    # now we filter out the entries with -1, giving us the values we require\n",
    "    vert2 = []\n",
    "    for i in range(len(vertexes)): \n",
    "        if vertexes[i][0] > 0: \n",
    "            vert2.append(vertexes[i])\n",
    "    return vert2"
   ]
  },
  {
   "cell_type": "code",
   "execution_count": 7,
   "metadata": {},
   "outputs": [],
   "source": [
    "listVertexes = []\n",
    "M = []\n",
    "O = []\n",
    "\n",
    "for k in range(len(roi_name)): \n",
    "    # Get the file number, and the roi of the cell we are interested in\n",
    "    num, roi = roi_name[k]\n",
    "    dat = np.load(dir[num], allow_pickle=True).item()\n",
    "    masks = dat['masks']\n",
    "    outlines = dat['outlines']\n",
    "\n",
    "    # Get the masks and the outlines of the cell we are interested in\n",
    "    # M.append(specificOutline(masks, roi)) # list containing all the masks\n",
    "    M.append(masks)\n",
    "    O.append(specificOutline(outlines, roi)) # list containing all the outlines\n"
   ]
  },
  {
   "cell_type": "code",
   "execution_count": 8,
   "metadata": {},
   "outputs": [
    {
     "data": {
      "text/plain": [
       "<matplotlib.collections.PathCollection at 0x2640928eee0>"
      ]
     },
     "execution_count": 8,
     "metadata": {},
     "output_type": "execute_result"
    },
    {
     "data": {
      "image/png": "[encoded data removed]",
      "text/plain": [
       "<Figure size 432x288 with 1 Axes>"
      ]
     },
     "metadata": {
      "needs_background": "light"
     },
     "output_type": "display_data"
    }
   ],
   "source": [
    "dat = np.load(dir[0], allow_pickle=True).item()\n",
    "outlines = dat['outlines']\n",
    "plt.imshow(outlines)\n",
    "A = M[0]\n",
    "a, b = A.shape \n",
    "A[a//2, b//2]\n",
    "plt.scatter(a//2, b//2)"
   ]
  },
  {
   "cell_type": "code",
   "execution_count": 9,
   "metadata": {},
   "outputs": [],
   "source": [
    "pointsList = []\n",
    "\n",
    "for k in range(len(M)): \n",
    "    points = []\n",
    "    o = O[k]\n",
    "    height, width = o.shape\n",
    "    # iterate through the matrix and get the coordinates that make up the outline\n",
    "    # of the cell we are interested in\n",
    "    for i in range(height): \n",
    "        for j in range(width): \n",
    "            if o[i][j] != 0: \n",
    "                points.append([j, i])\n",
    "    # points is now a list which contains the coordinates for each point that matters for our outline\n",
    "    # store the vertexes for file number k in the array\n",
    "    pointsList.append(points)"
   ]
  },
  {
   "cell_type": "code",
   "execution_count": 10,
   "metadata": {},
   "outputs": [
    {
     "name": "stdout",
     "output_type": "stream",
     "text": [
      "[11, 11, 11, 11, 11, 11, 11, 11, 11, 11, 11, 11, 11, 11, 11, 11, 11, 11, 11, 11, 11, 11, 11, 11, 11, 11, 11, 11, 11, 11, 11, 11, 11, 11, 11, 11, 11, 11, 11, 11, 11, 11, 11, 11, 11, 11, 11, 11, 11, 11, 11, 11, 11, 11, 11, 11, 11, 11, 11, 11, 11, 11, 11, 11, 11, 11, 11, 11, 11, 11, 11, 11, 11, 11, 11, 11, 11, 11, 11, 11, 11, 11, 11, 11, 11, 11, 11, 11]\n"
     ]
    }
   ],
   "source": [
    "# code ensures each image has the same number of vertexes\n",
    "# now we get the vertexes for each file, and we get the lengths for each file as well\n",
    "vertexList = []\n",
    "lengths = []\n",
    "for k in range(len(pointsList)): \n",
    "    possibleVertex = filterVertex(pointsList[k], M[k])\n",
    "    if len(possibleVertex) == 11: \n",
    "        vertexList.append(possibleVertex)\n",
    "        lengths.append(len(possibleVertex))\n",
    "    else: \n",
    "        for i in range(10): \n",
    "            possibleVertex = filterVertex(pointsList[k], M[k], distVal=i)\n",
    "            if len(possibleVertex) == 11: \n",
    "                vertexList.append(possibleVertex)\n",
    "                lengths.append(len(possibleVertex))\n",
    "                break\n",
    "    \n",
    "print(lengths)"
   ]
  },
  {
   "cell_type": "code",
   "execution_count": 11,
   "metadata": {},
   "outputs": [],
   "source": [
    "# Attempt for getting displacement\n",
    "\n",
    "def dist(f, g): \n",
    "    return np.sqrt((f[0] - g[0])**2 + (f[1] - g[1])**2)\n",
    "displacementList = [[] ]* (len(vertexList) - 1)\n",
    "\n",
    "for k in range(len(vertexList) - 1): \n",
    "    displacement =[]\n",
    "    v1 = vertexList[k]\n",
    "    v2 = vertexList[k + 1]\n",
    "    for j in range(len(v1)): \n",
    "        f = v1[j]\n",
    "        potentialDist = 100\n",
    "        for h in range(len(v2)): \n",
    "                g = v2[h]\n",
    "                dtest = dist(f, g) # iterate through and find which ones have the small displacement\n",
    "                if dtest < potentialDist: \n",
    "                    potentialDist = dtest\n",
    "        displacement.append(potentialDist)\n",
    "    displacementList[k] = displacement"
   ]
  },
  {
   "cell_type": "markdown",
   "metadata": {},
   "source": [
    "# Problems with this\n",
    "this method provides much better vertex detetection than the others for sure, but as the lists are created using the append method, there is no way to tell in which direction they are appended. The position of the vertexes may change after ablation, hence the order in which they are appended may change as well. To counteract this, we can take every entry in \"vertexList\" and compare it with the next entry in vertexList and see which element will have the least displacement. We can then just interchange those points"
   ]
  },
  {
   "cell_type": "code",
   "execution_count": 39,
   "metadata": {},
   "outputs": [
    {
     "name": "stdout",
     "output_type": "stream",
     "text": [
      "[ 1 -2]\n"
     ]
    },
    {
     "data": {
      "text/plain": [
       "[[0, array([ 1, -2])],\n",
       " [1, array([ 0, 32])],\n",
       " [2, array([  1, -32])],\n",
       " [4, array([ 0, -1])]]"
      ]
     },
     "execution_count": 39,
     "metadata": {},
     "output_type": "execute_result"
    }
   ],
   "source": [
    "# for i in range(len(vertexList) - 1):\n",
    "\n",
    "i = 0 \n",
    "\n",
    "A= np.asarray(vertexList[i])\n",
    "B = np.asarray(vertexList[i + 1])\n",
    "C = B - A\n",
    "print(C[i])\n",
    "D = []\n",
    "for i in range(len(C)): \n",
    "    if C[i][0] + C[i][1] != 0: # now we have the points that we need\n",
    "        D.append([i, C[i]])\n",
    "small = 0\n"
   ]
  },
  {
   "cell_type": "code",
   "execution_count": 13,
   "metadata": {},
   "outputs": [
    {
     "data": {
      "text/plain": [
       "<matplotlib.image.AxesImage at 0x2640b4fd160>"
      ]
     },
     "execution_count": 13,
     "metadata": {},
     "output_type": "execute_result"
    },
    {
     "data": {
      "image/png": "[encoded data removed]",
      "text/plain": [
       "<Figure size 432x288 with 1 Axes>"
      ]
     },
     "metadata": {
      "needs_background": "light"
     },
     "output_type": "display_data"
    }
   ],
   "source": [
    "\n",
    "\n",
    "for value in range(4):\n",
    "    x = np.asarray(vertexList[value])[:, 0]\n",
    "    y = np.asarray(vertexList[value])[:, 1]\n",
    "\n",
    "    plt.scatter(y[0], x[0], marker = \"x\", color = \"red\")\n",
    "\n",
    "plt.imshow(O[0])\n",
    "\n"
   ]
  },
  {
   "cell_type": "code",
   "execution_count": 14,
   "metadata": {},
   "outputs": [
    {
     "data": {
      "text/plain": [
       "<matplotlib.collections.PathCollection at 0x2640b5e3460>"
      ]
     },
     "execution_count": 14,
     "metadata": {},
     "output_type": "execute_result"
    },
    {
     "data": {
      "image/png": "[encoded data removed]",
      "text/plain": [
       "<Figure size 432x288 with 1 Axes>"
      ]
     },
     "metadata": {
      "needs_background": "light"
     },
     "output_type": "display_data"
    }
   ],
   "source": [
    "Dtry = displacementList\n",
    "Dtry = np.asarray(Dtry, dtype='object')\n",
    "a = Dtry[:, 4]\n",
    "x = np.linspace(0, len(a), len(a))\n",
    "plt.scatter(x, a)\n"
   ]
  },
  {
   "cell_type": "code",
   "execution_count": 15,
   "metadata": {},
   "outputs": [
    {
     "data": {
      "text/plain": [
       "<matplotlib.image.AxesImage at 0x2640b3209d0>"
      ]
     },
     "execution_count": 15,
     "metadata": {},
     "output_type": "execute_result"
    },
    {
     "data": {
      "image/png": "[encoded data removed]",
      "text/plain": [
       "<Figure size 432x288 with 1 Axes>"
      ]
     },
     "metadata": {
      "needs_background": "light"
     },
     "output_type": "display_data"
    }
   ],
   "source": [
    "\n",
    "v = 6\n",
    "\n",
    "for value in range(80):\n",
    "    x = np.asarray(vertexList[value])[:, 0]\n",
    "    y = np.asarray(vertexList[value])[:, 1]\n",
    "\n",
    "    plt.scatter(y[v], x[v], marker = \"x\", color = \"red\")\n",
    "\n",
    "plt.imshow(O[0])\n",
    "\n"
   ]
  },
  {
   "cell_type": "code",
   "execution_count": null,
   "metadata": {},
   "outputs": [],
   "source": []
  },
  {
   "cell_type": "code",
   "execution_count": null,
   "metadata": {},
   "outputs": [],
   "source": []
  },
  {
   "cell_type": "code",
   "execution_count": null,
   "metadata": {},
   "outputs": [],
   "source": []
  }
 ],
 "metadata": {
  "kernelspec": {
   "display_name": "Python 3.9.12 ('base')",
   "language": "python",
   "name": "python3"
  },
  "language_info": {
   "codemirror_mode": {
    "name": "ipython",
    "version": 3
   },
   "file_extension": ".py",
   "mimetype": "text/x-python",
   "name": "python",
   "nbconvert_exporter": "python",
   "pygments_lexer": "ipython3",
   "version": "3.9.12"
  },
  "orig_nbformat": 4,
  "vscode": {
   "interpreter": {
    "hash": "d850ae00bc40dfc8433057f5becab0d0ff9bac1b3b7822254cc13391e260b37a"
   }
  }
 },
 "nbformat": 4,
 "nbformat_minor": 2
}
