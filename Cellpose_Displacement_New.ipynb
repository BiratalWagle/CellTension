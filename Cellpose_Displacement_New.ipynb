{
 "cells": [
  {
   "cell_type": "markdown",
   "metadata": {},
   "source": [
    "# New Try\n",
    "The other methods of displacement finding weren't so nice. So this time let's try by first finding the ROI we need as well as all the ROIs that surround it\n",
    "\n",
    "\n",
    "# The Problem with this approach. \n",
    "Now, we are able to find the vertexes of th required cell segmentation very easily. This is because the ROI of every cell <i> includes </i> the cell walls. However, this is not exactly correct I feel. This also leads to alot more errors occuring.\n",
    "\n",
    "OK. Lets think about this another way. Hmmm.... maybe, just maybe, if I just use different algorithms to alter the image before the machine learning process, then maybe this could work. \n",
    "\n"
   ]
  },
  {
   "cell_type": "code",
   "execution_count": 2,
   "metadata": {},
   "outputs": [],
   "source": [
    "# Imports\n",
    "\n",
    "import numpy as np\n",
    "import matplotlib.pyplot as plt\n",
    "from cellpose import models, io\n",
    "from cellpose.io import imread\n",
    "from pathlib import Path\n",
    "import os\n",
    "from Modules import specificOutline, getFileDir, getOutlines, smoother, splitImg, plotSide # Custom module for readability\n",
    "import Modules_Displacement # custom module for readability\n",
    "import Modules\n",
    "from PIL import Image\n",
    "\n",
    "# List of Files\n",
    "# Importing all the files\n",
    "\n",
    "# If the folder containing the .npy and png (or .tif files) are stored \n",
    "npyDir = \"MCA_Normal\"\n",
    "basedir = os.path.join(Path.cwd(), npyDir)\n",
    "\n",
    "files = io.get_image_files(basedir, \"\")\n",
    "\n",
    "# Makes the directy to point to the seg files\n",
    "dir = []\n",
    "for f in files: \n",
    "    dir.append((os.path.join(basedir, f) + \"_seg.npy\").replace(\".tif\", \"\"))\n",
    "dir = dir"
   ]
  },
  {
   "cell_type": "code",
   "execution_count": 3,
   "metadata": {},
   "outputs": [],
   "source": [
    "\n",
    "roi_name = [] # a list containing the name of the roi we need\n",
    "\n",
    "for i in range(len(dir)):  \n",
    "    dat = np.load(dir[i], allow_pickle=True).item()\n",
    "    masks = dat['masks'] # Using the masks gives us a larger target to select from than outlines\n",
    "    filenam = dat['filename']\n",
    "    width, height = masks.shape\n",
    "    neededROI = masks[width//2][height//2] # the general area of where our ROI will always be\n",
    "    # the below code saves the outline in an image file\n",
    "    if neededROI != 0: \n",
    "        roi_name.append([i, neededROI])\n",
    "\n"
   ]
  },
  {
   "cell_type": "markdown",
   "metadata": {},
   "source": [
    "# Method\n",
    "The thought process for this method is that the cell we want will be boreder by other cells. However, the vertexes of those cells will be bordered by 3 cells. The cell we want, and two other cells. \n",
    "\n",
    "The \"outlines\" part of the .npy files contains the outlines for a particular cell. By iterating through this 2D array, we can obtain the coordinates for the border of the cell we are interested in. Now for each of these coordinates, we can create a 3 x 3 sized 2D matrix subarray where the coordinate we input is the center. This will give us the coordinates for the vertexes\n"
   ]
  },
  {
   "cell_type": "code",
   "execution_count": 4,
   "metadata": {},
   "outputs": [],
   "source": [
    "num, roi = roi_name[5]\n",
    "\n",
    "dat = np.load(dir[num], allow_pickle=True).item()\n",
    "masks = dat['masks']\n",
    "outlines = dat['outlines']\n",
    "\n",
    "m = specificOutline(masks, roi)\n",
    "o = specificOutline(outlines, roi) # the 2D array with the outlines\n"
   ]
  },
  {
   "cell_type": "code",
   "execution_count": 63,
   "metadata": {},
   "outputs": [
    {
     "data": {
      "text/plain": [
       "<matplotlib.image.AxesImage at 0x2bd07b49e20>"
      ]
     },
     "execution_count": 63,
     "metadata": {},
     "output_type": "execute_result"
    },
    {
     "data": {
      "image/png": "[encoded data removed]",
      "text/plain": [
       "<Figure size 432x288 with 1 Axes>"
      ]
     },
     "metadata": {
      "needs_background": "light"
     },
     "output_type": "display_data"
    }
   ],
   "source": [
    "\n",
    "\n",
    "plt.imshow(o)\n",
    "plt.imshow(M[5])\n"
   ]
  },
  {
   "cell_type": "code",
   "execution_count": 6,
   "metadata": {},
   "outputs": [],
   "source": [
    "height, width = o.shape \n",
    "points = []\n",
    "\n",
    "for i in range(height): \n",
    "    for j in range(width): \n",
    "        if o[i][j] != 0: \n",
    "            points.append([j, i])\n",
    "\n",
    "points = np.array(points)\n",
    "\n",
    "# this will highlight the outline we want\n",
    "# x = points[:, 0]\n",
    "# y = points[:, 1]\n",
    "# plt.scatter(x, y, marker = \".\")\n",
    "# plt.imshow(o)\n",
    "\n",
    "# points is now a list which contains the coordinates for each point that matters for our outline"
   ]
  },
  {
   "cell_type": "code",
   "execution_count": 7,
   "metadata": {},
   "outputs": [],
   "source": [
    "\n",
    "# function to find the vertexes. \n",
    "# works by looking at the items surround i, j \n",
    "# filters out so only the unique items are found\n",
    "# if it is bordered by more than 3 unique items, then it is a vertex point\n",
    "\n",
    "def findVertex(masks, j, i, k = 2):  \n",
    "    surr =[masks.item((j+k, i-k)),\n",
    "    masks.item((j+k, i)),\n",
    "    masks.item((j+k, i+k)),\n",
    "    masks.item((j, i-k)),\n",
    "    masks.item((j, i)),\n",
    "    masks.item((j, i+k)),\n",
    "    masks.item((j-k, i-k)),\n",
    "    masks.item((j-k, i)),\n",
    "    masks.item((j-k, i+k))]\n",
    "\n",
    "    # the set() function returns the unique values of the array. If the size of the list is more than\n",
    "    # 2, then we can return j, i. As this means that it is bordered by at least 3 cells\n",
    "    if len(list(set(surr)))>2: \n",
    "        return [j, i]"
   ]
  },
  {
   "cell_type": "code",
   "execution_count": 49,
   "metadata": {},
   "outputs": [
    {
     "data": {
      "text/plain": [
       "<matplotlib.collections.PathCollection at 0x2bd051b4760>"
      ]
     },
     "execution_count": 49,
     "metadata": {},
     "output_type": "execute_result"
    },
    {
     "data": {
      "image/png": "[encoded data removed]",
      "text/plain": [
       "<Figure size 432x288 with 1 Axes>"
      ]
     },
     "metadata": {
      "needs_background": "light"
     },
     "output_type": "display_data"
    }
   ],
   "source": [
    "vertexes = []\n",
    "for k in range(len(points)): \n",
    "    i, j = points[k]\n",
    "    vert = findVertex(masks, j, i) # This finds the vertexes? \n",
    "    if vert: \n",
    "        vertexes.append(vert)\n",
    "\n",
    "vertexes = np.asarray(vertexes)\n",
    "A = vertexes[:, 0]\n",
    "B = vertexes[:, 1]\n",
    "\n",
    "plt.scatter(B, A, marker = \"x\")\n"
   ]
  },
  {
   "cell_type": "code",
   "execution_count": null,
   "metadata": {},
   "outputs": [],
   "source": []
  },
  {
   "cell_type": "code",
   "execution_count": 50,
   "metadata": {},
   "outputs": [],
   "source": [
    "import pandas as pd\n",
    "import matplotlib.pyplot as plt \n",
    "import numpy\n",
    "from sklearn.cluster import KMeans\n",
    "\n",
    "import pandas as pd\n",
    "\n",
    "\n",
    "X = list(zip(B, A))\n",
    "\n",
    "kmeans = KMeans(n_clusters=11, random_state=42) \n",
    "A = kmeans.fit(X)\n",
    "clusts = kmeans.fit_predict(X)"
   ]
  },
  {
   "cell_type": "code",
   "execution_count": 54,
   "metadata": {},
   "outputs": [],
   "source": [
    "dat = pd.DataFrame(X)\n",
    "dat[\"labels\"] = clusts"
   ]
  },
  {
   "cell_type": "code",
   "execution_count": 60,
   "metadata": {},
   "outputs": [
    {
     "data": {
      "image/png": "[encoded data removed]",
      "text/plain": [
       "<Figure size 432x288 with 1 Axes>"
      ]
     },
     "metadata": {
      "needs_background": "light"
     },
     "output_type": "display_data"
    }
   ],
   "source": [
    "fig = plt.figure()\n",
    "ax = fig.add_subplot(111)\n",
    "df = dat\n",
    "\n",
    "scatter = ax.scatter(dat[0], dat[1],\n",
    "                     c=clusts,s=22, cmap='hot')"
   ]
  },
  {
   "cell_type": "code",
   "execution_count": 59,
   "metadata": {},
   "outputs": [
    {
     "data": {
      "text/html": [
       "<div>\n",
       "<style scoped>\n",
       "    .dataframe tbody tr th:only-of-type {\n",
       "        vertical-align: middle;\n",
       "    }\n",
       "\n",
       "    .dataframe tbody tr th {\n",
       "        vertical-align: top;\n",
       "    }\n",
       "\n",
       "    .dataframe thead th {\n",
       "        text-align: right;\n",
       "    }\n",
       "</style>\n",
       "<table border=\"1\" class=\"dataframe\">\n",
       "  <thead>\n",
       "    <tr style=\"text-align: right;\">\n",
       "      <th></th>\n",
       "      <th>0</th>\n",
       "      <th>1</th>\n",
       "      <th>labels</th>\n",
       "    </tr>\n",
       "  </thead>\n",
       "  <tbody>\n",
       "    <tr>\n",
       "      <th>34</th>\n",
       "      <td>51</td>\n",
       "      <td>91</td>\n",
       "      <td>4</td>\n",
       "    </tr>\n",
       "    <tr>\n",
       "      <th>35</th>\n",
       "      <td>52</td>\n",
       "      <td>91</td>\n",
       "      <td>4</td>\n",
       "    </tr>\n",
       "    <tr>\n",
       "      <th>36</th>\n",
       "      <td>53</td>\n",
       "      <td>91</td>\n",
       "      <td>4</td>\n",
       "    </tr>\n",
       "    <tr>\n",
       "      <th>37</th>\n",
       "      <td>54</td>\n",
       "      <td>91</td>\n",
       "      <td>4</td>\n",
       "    </tr>\n",
       "  </tbody>\n",
       "</table>\n",
       "</div>"
      ],
      "text/plain": [
       "     0   1  labels\n",
       "34  51  91       4\n",
       "35  52  91       4\n",
       "36  53  91       4\n",
       "37  54  91       4"
      ]
     },
     "execution_count": 59,
     "metadata": {},
     "output_type": "execute_result"
    }
   ],
   "source": [
    "a = df.loc[df['labels'] == 4] \n",
    "a"
   ]
  },
  {
   "cell_type": "markdown",
   "metadata": {},
   "source": [
    "What we can do now, is repeat the above function for two different points, and see what happens for the one above and below "
   ]
  },
  {
   "cell_type": "code",
   "execution_count": 10,
   "metadata": {},
   "outputs": [],
   "source": [
    "M = []\n",
    "O = []\n",
    "\n",
    "for k in range(len(roi_name)): \n",
    "    # Get the file number, and the roi of the cell we are interested in\n",
    "    num, roi = roi_name[k]\n",
    "    dat = np.load(dir[num], allow_pickle=True).item()\n",
    "    masks = dat['masks']\n",
    "    outlines = dat['outlines']\n",
    "\n",
    "    # Get the masks and the outlines of the cell we are interested in\n",
    "    # M.append(specificOutline(masks, roi)) # list containing all the masks\n",
    "    M.append(masks)\n",
    "    O.append(specificOutline(outlines, roi)) # list containing all the outlines\n",
    "    \n",
    "pointsList = []\n",
    "\n",
    "for k in range(len(M)): \n",
    "    points = []\n",
    "    o = O[k]\n",
    "    height, width = o.shape\n",
    "    # iterate through the matrix and get the coordinates that make up the outline\n",
    "    # of the cell we are interested in\n",
    "    for i in range(height): \n",
    "        for j in range(width): \n",
    "            if o[i][j] != 0: \n",
    "                points.append([j, i])\n",
    "    # points is now a list which contains the coordinates for each point that matters for our outline\n",
    "    # store the vertexes for file number k in the array\n",
    "    pointsList.append(points)"
   ]
  },
  {
   "cell_type": "code",
   "execution_count": 11,
   "metadata": {},
   "outputs": [],
   "source": [
    "# first lets find the vertex points for the roi we are interested\n",
    "# points contains the coordinates for the outline we are interested in\n",
    "\n",
    "def filterVertex(points, masks, distVal = 9):  # list of all masks\n",
    "    vertexes = []\n",
    "    for k in range(len(points)): \n",
    "        i, j = points[k]\n",
    "        vert = findVertex(masks, j, i) # This finds the vertexes? \n",
    "        if vert: \n",
    "            vertexes.append(vert)\n",
    "    # now in the vertexes file, there are some points which are overlapping with others\n",
    "    # in order to fix this, we can remove the points in the vertex file which are close to\n",
    "    # each other. \n",
    "    # perhaps if we do the vertex allocation step here. \n",
    "    # So we chose the vertex with the least displacement to the vertex before it? \n",
    "    # Would that work? \n",
    "    listOfVertexes = []\n",
    "    mainlist = []\n",
    "    for i in range(len(vertexes)): \n",
    "        if len(vertexes[i]) > 1 and i not in mainlist: \n",
    "            mainlist.append(i)\n",
    "            a, b = vertexes[i]\n",
    "            vlist = [vertexes[i]]\n",
    "                       # list will store the vertexes that \"work\", or rather the \n",
    "                       # vertexes which are basically the same.\n",
    "            for j in range(len(vertexes)): \n",
    "                if i != j: \n",
    "                    c, d = vertexes[j]   # We take two different vertexes\n",
    "                    dist = np.sqrt((a - c)**2 + (b - d)**2) # displacement formula\n",
    "                 \n",
    "                    if dist <distVal: \n",
    "                        vlist.append(vertexes[j])\n",
    "                        if j not in mainlist:  # What this does is give us a list with the \n",
    "                                               # Vertex points of the overlapping and/or close by vertexes\n",
    "                            mainlist.append(j)\n",
    "\n",
    "            listOfVertexes.append(vlist)\n",
    "                    # if dist < distVal: # distval determines the max distance between vertexes\n",
    "                    #     vertexes[j] = -1 # setting those values as -1\n",
    "    # now we filter out the entries with -1, giving us the values we require\n",
    "    # vert2 = []\n",
    "    # for i in range(len(vertexes)): \n",
    "    #     if vertexes[i][0] > 0: \n",
    "    #         vert2.append(vertexes[i])\n",
    "    # return vert2\n",
    "\n",
    "    return listOfVertexes # gives a list of the vertexes, and the similar points\n",
    "    \n",
    "\n",
    "\n",
    "VlistF = []\n",
    "for i in range(len(pointsList)): \n",
    "    G = 12\n",
    "    # for k in range(15): \n",
    "    G = filterVertex(pointsList[i], M[i], 5)\n",
    "        # if len(G) == 11: \n",
    "    VlistF.append(G)\n",
    "     \n"
   ]
  },
  {
   "cell_type": "code",
   "execution_count": 12,
   "metadata": {},
   "outputs": [],
   "source": [
    "def dist(f, g): \n",
    "    return np.sqrt((f[0] - g[0])**2 + (f[1] - g[1])**2)"
   ]
  },
  {
   "cell_type": "code",
   "execution_count": 13,
   "metadata": {},
   "outputs": [],
   "source": [
    "\n",
    "        # Min = np.inf\n",
    "        # possibleVertex = 0\n",
    "        # possibleIndex = -1\n",
    "        # for i in range(len(row1)): \n",
    "        #     for j in range(len(row2)): \n",
    "        #         possibleMin = dist(row1[i], row2[j])\n",
    "        #         if possibleMin < Min: \n",
    "        #             Min = possibleMin\n",
    "        #             possibleVertex = [row1[i], row2[j]]\n",
    "        #             possibleIndex = j\n",
    "        \n",
    "        # if len(NewPointsList) > 0: \n",
    "        #     if np.array_equal(NewPointsList[-1], possibleVertex[0]) == True:  \n",
    "        #         NewPointsList.append(possibleVertex[1])\n",
    "        #     else: \n",
    "                \n",
    "        # else: \n",
    "        #     NewPointsList.append(possibleVertex[0])\n",
    "        #     NewPointsList.append(possibleVertex[1])\n",
    "        \n",
    "# print(possibleMin)\n",
    "# x1 = p1[:, 0]\n",
    "# y1 = p1[:, 1]\n",
    "\n",
    "# x2 = p2[:, 0]\n",
    "# y2 = p2[:, 1]\n",
    "\n",
    "# plt.scatter(x2, y2, marker = \".\")\n",
    "# plt.scatter(x1, y1, marker = \"x\")\n",
    "# plt.imshow(O[3])"
   ]
  },
  {
   "cell_type": "code",
   "execution_count": 14,
   "metadata": {},
   "outputs": [],
   "source": [
    "A = []\n",
    "mainlist = []\n",
    "NewPointsList = []\n",
    "\n",
    "i = 0\n",
    "# for i in range(len([1])): \n",
    "    # if i not in mainlist:\n",
    "    #     mainlist.append(i)\n",
    "    #     mainlist.append(i + 1)\n",
    "\n",
    "    # a list of points for a specific outline\n",
    "\n",
    "\n",
    "\n",
    "for i in range(len(VlistF)):\n",
    "    A = VlistF[i] # Getting the vertexes for a specific file\n",
    "    NewPointsList = []\n",
    "    for k in range(len(A)):\n",
    "        a = A[k]\n",
    "        a = np.array(a)\n",
    "        G = [np.average(a[:, 0]), np.average(a[:, 1])]\n",
    "        NewPointsList.append(G)\n",
    "    mainlist.append(NewPointsList)\n"
   ]
  },
  {
   "cell_type": "code",
   "execution_count": 15,
   "metadata": {},
   "outputs": [
    {
     "data": {
      "text/plain": [
       "<matplotlib.image.AxesImage at 0x2bd7f02c520>"
      ]
     },
     "execution_count": 15,
     "metadata": {},
     "output_type": "execute_result"
    },
    {
     "data": {
      "image/png": "[encoded data removed]",
      "text/plain": [
       "<Figure size 432x288 with 1 Axes>"
      ]
     },
     "metadata": {
      "needs_background": "light"
     },
     "output_type": "display_data"
    }
   ],
   "source": [
    "k = 65\n",
    "\n",
    "X1 = np.array(mainlist[k])\n",
    "\n",
    "x = X1[:, 0]\n",
    "y = X1[:, 1]\n",
    "\n",
    "plt.scatter(y, x)\n",
    "plt.imshow(O[k])"
   ]
  },
  {
   "cell_type": "code",
   "execution_count": 16,
   "metadata": {},
   "outputs": [
    {
     "name": "stdout",
     "output_type": "stream",
     "text": [
      "[[60.0, 86.75], [62.0, 43.0], [61.333333333333336, 74.33333333333333], [63.333333333333336, 37.333333333333336], [74.0, 34.666666666666664], [74.8, 114.0], [75.4, 114.8], [87.66666666666667, 41.333333333333336], [92.66666666666667, 116.66666666666667], [93.25, 50.5], [93.66666666666667, 97.0], [96.0, 106.5], [98.75, 75.5]]\n",
      "[[60.333333333333336, 86.0], [61.333333333333336, 75.33333333333333], [62.5, 41.75], [64.0, 37.333333333333336], [74.5, 34.75], [74.6, 113.0], [75.2, 113.8], [88.0, 41.333333333333336], [92.66666666666667, 116.66666666666667], [93.25, 50.5], [93.66666666666667, 97.0], [96.0, 106.5], [98.75, 75.5]]\n"
     ]
    }
   ],
   "source": [
    "mainlist[0]\n",
    "print(mainlist[0])\n",
    "print(mainlist[1])\n",
    "\n",
    "vertexList = mainlist"
   ]
  },
  {
   "cell_type": "code",
   "execution_count": 17,
   "metadata": {},
   "outputs": [],
   "source": [
    "# code ensures each image has the same number of vertexes\n",
    "# now we get the vertexes for each file, and we get the lengths for each file as well\n",
    "# lengths = []\n",
    "\n",
    "# for k in range(len(pointsList)): \n",
    "#     possibleVertex = filterVertex(pointsList[k], M[k])\n",
    "#     if len(possibleVertex) == 11: \n",
    "#         vertexList.append(possibleVertex)\n",
    "#         lengths.append(len(possibleVertex))\n",
    "#     else: \n",
    "#         for i in range(10): \n",
    "#             possibleVertex = filterVertex(pointsList[k], M[k], distVal=i)\n",
    "#             if len(possibleVertex) == 11: \n",
    "#                 vertexList.append(possibleVertex)\n",
    "#                 lengths.append(len(possibleVertex))\n",
    "#                 break"
   ]
  },
  {
   "cell_type": "code",
   "execution_count": 18,
   "metadata": {},
   "outputs": [],
   "source": [
    "# Attempt for getting displacement\n",
    "\n",
    "def dist(f, g): \n",
    "    return np.sqrt((f[0] - g[0])**2 + (f[1] - g[1])**2)\n",
    "displacementList = [[] ]* (len(vertexList) - 1)\n",
    "\n",
    "for k in range(len(vertexList) - 1): \n",
    "    displacement =[]\n",
    "    v1 = vertexList[k]\n",
    "    v2 = vertexList[k + 1]\n",
    "    for j in range(len(v1)): \n",
    "        f = v1[j]\n",
    "        potentialDist = 100\n",
    "        for h in range(len(v2)): \n",
    "                g = v2[h]\n",
    "                dtest = dist(f, g) # iterate through and find which ones have the small displacement\n",
    "                if dtest < potentialDist: \n",
    "                    potentialDist = dtest\n",
    "        displacement.append(potentialDist)\n",
    "    displacementList[k] = displacement"
   ]
  },
  {
   "cell_type": "code",
   "execution_count": 19,
   "metadata": {},
   "outputs": [
    {
     "ename": "TypeError",
     "evalue": "list indices must be integers or slices, not tuple",
     "output_type": "error",
     "traceback": [
      "\u001b[1;31m---------------------------------------------------------------------------\u001b[0m",
      "\u001b[1;31mTypeError\u001b[0m                                 Traceback (most recent call last)",
      "\u001b[1;32mc:\\Users\\birat\\OneDrive\\Desktop\\backe\\CellTension\\Cellpose_Displacement_New.ipynb Cell 21\u001b[0m in \u001b[0;36m<cell line: 2>\u001b[1;34m()\u001b[0m\n\u001b[0;32m      <a href='vscode-notebook-cell:/c%3A/Users/birat/OneDrive/Desktop/backe/CellTension/Cellpose_Displacement_New.ipynb#X25sZmlsZQ%3D%3D?line=0'>1</a>\u001b[0m D \u001b[39m=\u001b[39m np\u001b[39m.\u001b[39masarray(displacementList, dtype \u001b[39m=\u001b[39m \u001b[39m\"\u001b[39m\u001b[39mobject\u001b[39m\u001b[39m\"\u001b[39m)\n\u001b[1;32m----> <a href='vscode-notebook-cell:/c%3A/Users/birat/OneDrive/Desktop/backe/CellTension/Cellpose_Displacement_New.ipynb#X25sZmlsZQ%3D%3D?line=1'>2</a>\u001b[0m displacementList[:, \u001b[39m0\u001b[39;49m]\n",
      "\u001b[1;31mTypeError\u001b[0m: list indices must be integers or slices, not tuple"
     ]
    }
   ],
   "source": [
    "D = np.asarray(displacementList, dtype = \"object\")\n",
    "displacementList[:, 0]"
   ]
  },
  {
   "cell_type": "markdown",
   "metadata": {},
   "source": [
    "# Problems with this\n",
    "this method provides much better vertex detetection than the others for sure, but as the lists are created using the append method, there is no way to tell in which direction they are appended. The position of the vertexes may change after ablation, hence the order in which they are appended may change as well. To counteract this, we can take every entry in \"vertexList\" and compare it with the next entry in vertexList and see which element will have the least displacement. We can then just interchange those points"
   ]
  },
  {
   "cell_type": "code",
   "execution_count": null,
   "metadata": {},
   "outputs": [
    {
     "name": "stdout",
     "output_type": "stream",
     "text": [
      "[ 0.33333333 -0.75      ]\n"
     ]
    }
   ],
   "source": [
    "# for i in range(len(vertexList) - 1):\n",
    "\n",
    "i = 0 \n",
    "\n",
    "A= np.asarray(vertexList[i])\n",
    "B = np.asarray(vertexList[i + 1])\n",
    "C = B - A\n",
    "print(C[i])\n",
    "D = []\n",
    "for i in range(len(C)): \n",
    "    if C[i][0] + C[i][1] != 0: # now we have the points that we need\n",
    "        D.append([i, C[i]])\n",
    "small = 0\n"
   ]
  },
  {
   "cell_type": "code",
   "execution_count": null,
   "metadata": {},
   "outputs": [
    {
     "data": {
      "text/plain": [
       "<matplotlib.image.AxesImage at 0x29c23d9f1c0>"
      ]
     },
     "execution_count": 19,
     "metadata": {},
     "output_type": "execute_result"
    },
    {
     "data": {
      "image/png": "[encoded data removed]",
      "text/plain": [
       "<Figure size 432x288 with 1 Axes>"
      ]
     },
     "metadata": {
      "needs_background": "light"
     },
     "output_type": "display_data"
    }
   ],
   "source": [
    "\n",
    "\n",
    "for value in range(88):\n",
    "    x = np.asarray(vertexList[value])[:, 0]\n",
    "    y = np.asarray(vertexList[value])[:, 1]\n",
    "\n",
    "    plt.scatter(y[0], x[0], marker = \"x\", color = \"red\")\n",
    "\n",
    "plt.imshow(O[0])\n",
    "\n"
   ]
  },
  {
   "cell_type": "code",
   "execution_count": null,
   "metadata": {},
   "outputs": [
    {
     "ename": "IndexError",
     "evalue": "too many indices for array: array is 1-dimensional, but 2 were indexed",
     "output_type": "error",
     "traceback": [
      "\u001b[1;31m---------------------------------------------------------------------------\u001b[0m",
      "\u001b[1;31mIndexError\u001b[0m                                Traceback (most recent call last)",
      "\u001b[1;32mc:\\Users\\birat\\OneDrive\\Desktop\\backe\\CellTension\\Cellpose_Displacement_New.ipynb Cell 23\u001b[0m in \u001b[0;36m<cell line: 3>\u001b[1;34m()\u001b[0m\n\u001b[0;32m      <a href='vscode-notebook-cell:/c%3A/Users/birat/OneDrive/Desktop/backe/CellTension/Cellpose_Displacement_New.ipynb#X34sZmlsZQ%3D%3D?line=0'>1</a>\u001b[0m Dtry \u001b[39m=\u001b[39m displacementList\n\u001b[0;32m      <a href='vscode-notebook-cell:/c%3A/Users/birat/OneDrive/Desktop/backe/CellTension/Cellpose_Displacement_New.ipynb#X34sZmlsZQ%3D%3D?line=1'>2</a>\u001b[0m Dtry \u001b[39m=\u001b[39m np\u001b[39m.\u001b[39marray(Dtry, dtype \u001b[39m=\u001b[39m \u001b[39m\"\u001b[39m\u001b[39mobject\u001b[39m\u001b[39m\"\u001b[39m)\n\u001b[1;32m----> <a href='vscode-notebook-cell:/c%3A/Users/birat/OneDrive/Desktop/backe/CellTension/Cellpose_Displacement_New.ipynb#X34sZmlsZQ%3D%3D?line=2'>3</a>\u001b[0m a \u001b[39m=\u001b[39m Dtry[:, \u001b[39m1\u001b[39;49m]\n\u001b[0;32m      <a href='vscode-notebook-cell:/c%3A/Users/birat/OneDrive/Desktop/backe/CellTension/Cellpose_Displacement_New.ipynb#X34sZmlsZQ%3D%3D?line=3'>4</a>\u001b[0m x \u001b[39m=\u001b[39m np\u001b[39m.\u001b[39mlinspace(\u001b[39m0\u001b[39m, \u001b[39mlen\u001b[39m(a), \u001b[39mlen\u001b[39m(a))\n\u001b[0;32m      <a href='vscode-notebook-cell:/c%3A/Users/birat/OneDrive/Desktop/backe/CellTension/Cellpose_Displacement_New.ipynb#X34sZmlsZQ%3D%3D?line=4'>5</a>\u001b[0m plt\u001b[39m.\u001b[39mplot(x, a)\n",
      "\u001b[1;31mIndexError\u001b[0m: too many indices for array: array is 1-dimensional, but 2 were indexed"
     ]
    }
   ],
   "source": [
    "Dtry = displacementList\n",
    "Dtry = np.array(Dtry, dtype = \"object\")\n",
    "a = Dtry[:, 1]\n",
    "x = np.linspace(0, len(a), len(a))\n",
    "plt.plot(x, a)\n"
   ]
  },
  {
   "cell_type": "code",
   "execution_count": null,
   "metadata": {},
   "outputs": [
    {
     "data": {
      "text/plain": [
       "<matplotlib.image.AxesImage at 0x29c23d35ee0>"
      ]
     },
     "execution_count": 21,
     "metadata": {},
     "output_type": "execute_result"
    },
    {
     "data": {
      "image/png": "[encoded data removed]",
      "text/plain": [
       "<Figure size 432x288 with 1 Axes>"
      ]
     },
     "metadata": {
      "needs_background": "light"
     },
     "output_type": "display_data"
    }
   ],
   "source": [
    "\n",
    "v = 5\n",
    "\n",
    "for value in range(88):\n",
    "    x = np.asarray(vertexList[value])[:, 0]\n",
    "    y = np.asarray(vertexList[value])[:, 1]\n",
    "\n",
    "    plt.scatter(y, x, marker = \"x\", color = \"red\")\n",
    "\n",
    "plt.imshow(O[10])\n",
    "\n"
   ]
  },
  {
   "cell_type": "code",
   "execution_count": null,
   "metadata": {},
   "outputs": [
    {
     "data": {
      "text/plain": [
       "[[60.0, 86.75],\n",
       " [62.0, 43.0],\n",
       " [61.333333333333336, 74.33333333333333],\n",
       " [63.333333333333336, 37.333333333333336],\n",
       " [74.0, 34.666666666666664],\n",
       " [74.8, 114.0],\n",
       " [75.4, 114.8],\n",
       " [87.66666666666667, 41.333333333333336],\n",
       " [92.66666666666667, 116.66666666666667],\n",
       " [93.25, 50.5],\n",
       " [93.66666666666667, 97.0],\n",
       " [96.0, 106.5],\n",
       " [98.75, 75.5]]"
      ]
     },
     "execution_count": 425,
     "metadata": {},
     "output_type": "execute_result"
    }
   ],
   "source": [
    "vertexList[0]"
   ]
  },
  {
   "cell_type": "code",
   "execution_count": null,
   "metadata": {},
   "outputs": [],
   "source": []
  },
  {
   "cell_type": "code",
   "execution_count": null,
   "metadata": {},
   "outputs": [],
   "source": []
  }
 ],
 "metadata": {
  "kernelspec": {
   "display_name": "Python 3.9.12 ('base')",
   "language": "python",
   "name": "python3"
  },
  "language_info": {
   "codemirror_mode": {
    "name": "ipython",
    "version": 3
   },
   "file_extension": ".py",
   "mimetype": "text/x-python",
   "name": "python",
   "nbconvert_exporter": "python",
   "pygments_lexer": "ipython3",
   "version": "3.9.12"
  },
  "orig_nbformat": 4,
  "vscode": {
   "interpreter": {
    "hash": "d850ae00bc40dfc8433057f5becab0d0ff9bac1b3b7822254cc13391e260b37a"
   }
  }
 },
 "nbformat": 4,
 "nbformat_minor": 2
}
